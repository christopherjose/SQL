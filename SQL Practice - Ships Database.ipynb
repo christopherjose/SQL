{
 "cells": [
  {
   "cell_type": "code",
   "execution_count": 1,
   "metadata": {
    "collapsed": false
   },
   "outputs": [],
   "source": [
    "from IPython.core.interactiveshell import InteractiveShell\n",
    "InteractiveShell.ast_node_interactivity = \"all\"\n",
    "# show all outputs of a cell (such as if df.head() and df.tail() are in the same cell)\n",
    "#default is 'last_expr'\n",
    "from pandasql import sqldf\n",
    "sql = lambda q: sqldf(q, globals()) \n",
    "import pandas as pd\n",
    "\n",
    "classes=[('Bismarck','bb','Germany',8,15,42000),\n",
    "('Iowa','bb','USA',9,16,46000),('Kongo','bc','Japan',8,14,32000),\n",
    "('North Carolina','bb','USA',12,16,37000),('Renown','bc','Gt.Britain',6,15,32000),\n",
    "('Revenge','bb','Gt.Britain',8,15,29000),('Tennessee','bb','USA',12,14,32000),\n",
    "('Yamato','bb','Japan',9,18,65000)]\n",
    "\n",
    "battles=[('Guadalcanal','1942-11-15 00:00:00'),('North Atlantic','1941-05-25 00:00:00'),\n",
    "('North Cape','1943-12-26 00:00:00'),('Surigao Strait','1944-10-25 00:00:00'),\n",
    "('#Cuba62a'   , '1962-10-20'),('#Cuba62b'   , '1962-10-25')]\n",
    "\n",
    "ships=[('California','Tennessee',1921),('Haruna','Kongo',1916),\n",
    "('Hiei','Kongo',1914),('Iowa','Iowa',1943),('Kirishima','Kongo',1915),\n",
    "('Kongo','Kongo',1913),('Missouri','Iowa',1944),('Musashi','Yamato',1942),\n",
    "('New Jersey','Iowa',1943),('North Carolina','North Carolina',1941),\n",
    "('Ramillies','Revenge',1917),('Renown','Renown',1916),('Repulse','Renown',1916),\n",
    "('Resolution','Renown',1916),('Revenge','Revenge',1916),('Royal Oak','Revenge',1916),\n",
    "('Royal Sovereign','Revenge',1916),('Tennessee','Tennessee',1920),\n",
    "('Washington','North Carolina',1941),('Wisconsin','Iowa',1944),('Yamato','Yamato',1941),\n",
    "('South Dakota','North Carolina',1941)]\n",
    "\n",
    "outcomes=[('Bismarck','North Atlantic','sunk'),\n",
    "('California','Surigao Strait','OK'),('Duke of York','North Cape','OK'),\n",
    "('Fuso','Surigao Strait','sunk'),('Hood','North Atlantic','sunk'),\n",
    "('King George V','North Atlantic','OK'),('Kirishima','Guadalcanal','sunk'),\n",
    "('Prince of Wales','North Atlantic','damaged'),('Rodney','North Atlantic','OK'),\n",
    "('Schamhorst','North Cape','sunk'),('South Dakota','Guadalcanal','damaged'),\n",
    "('Tennessee','Surigao Strait','OK'),('Washington','Guadalcanal','OK'),\n",
    "('West Virginia','Surigao Strait','OK'),('Yamashiro','Surigao Strait','sunk'),\n",
    "('California','Guadalcanal','damaged')]\n",
    "\n",
    "classes=pd.DataFrame(classes,columns=['class','type','country','numGuns','bore','displacement',])\n",
    "battles=pd.DataFrame(battles,columns=['name','date'])\n",
    "ships=pd.DataFrame(ships,columns=['name','class','launched'])\n",
    "outcomes=pd.DataFrame(outcomes,columns=['ship','battle','result'])\n",
    "Ships = ships\n",
    "Classes=classes\n",
    "Outcomes = outcomes\n",
    "Battles=battles"
   ]
  },
  {
   "cell_type": "code",
   "execution_count": 39,
   "metadata": {
    "collapsed": false
   },
   "outputs": [],
   "source": [
    "'''\n",
    "The database of naval ships that took part in World War II is under consideration. \n",
    "\n",
    "A class is normally assigned either the name of the first ship built according to the \n",
    "corresponding design, or a name that is different from any ship name in the database. \n",
    "The ship whose name is assigned to a class is called a lead ship.\n",
    "\n",
    "The Classes relation includes the name of the class, type \n",
    "(can be either bb for a battle ship, or bc for a battle cruiser), \n",
    "country the ship was built in, the number of main guns, gun caliber (bore diameter in inches), \n",
    "and displacement (weight in tons). \n",
    "\n",
    "The Ships relation holds information about the ship name, \n",
    "the name of its corresponding class, and the year the ship was launched. \n",
    "\n",
    "The Battles relation contains names and dates of battles the ships participated in, \n",
    "and the Outcomes relation - the battle result for a given ship (may be sunk, damaged, or OK, \n",
    "the last value meaning the ship survived the battle unharmed). \n",
    "\n",
    "Notes: 1) The Outcomes relation may contain ships not present in the Ships relation. \n",
    "2) A ship sunk can’t participate in later battles. 3) For historical reasons, \n",
    "lead ships are referred to as head ships in many exercises.4) \n",
    "A ship found in the Outcomes table but not in the Ships table is still \n",
    "considered in the database. This is true even if it is sunk.\n",
    "\n",
    "The database consists of the following relations: \n",
    "Classes(class, type, country, numGuns, bore, displacement) \n",
    "Ships(name, class, launched) \n",
    "Battles(name, date) \n",
    "Outcomes(ship, battle, result) \n",
    "Ships in classes all have the same general design.\n",
    "\n",
    "Observation: there are many ships in the outcomes table that are not lead ships, so how would we know their class?\n",
    "(A lead ship's name is its class name).\n",
    "We would join the outcomes ship name to the ships table's ship's name, and inspect the class field in this table\n",
    "If the outcomes ship is not in the ships table, then there's no way to link it to the class table.\n",
    "\n",
    "''';"
   ]
  },
  {
   "cell_type": "code",
   "execution_count": 2,
   "metadata": {
    "collapsed": false
   },
   "outputs": [
    {
     "data": {
      "text/html": [
       "<div>\n",
       "<table border=\"1\" class=\"dataframe\">\n",
       "  <thead>\n",
       "    <tr style=\"text-align: right;\">\n",
       "      <th></th>\n",
       "      <th>name</th>\n",
       "      <th>class</th>\n",
       "      <th>launched</th>\n",
       "    </tr>\n",
       "  </thead>\n",
       "  <tbody>\n",
       "    <tr>\n",
       "      <th>0</th>\n",
       "      <td>California</td>\n",
       "      <td>Tennessee</td>\n",
       "      <td>1921</td>\n",
       "    </tr>\n",
       "  </tbody>\n",
       "</table>\n",
       "</div>"
      ],
      "text/plain": [
       "         name      class  launched\n",
       "0  California  Tennessee      1921"
      ]
     },
     "execution_count": 2,
     "metadata": {},
     "output_type": "execute_result"
    }
   ],
   "source": [
    "q='''\n",
    "Select * from ships\n",
    "LIMIT 1\n",
    "'''\n",
    "sql(q)"
   ]
  },
  {
   "cell_type": "markdown",
   "metadata": {},
   "source": [
    "**Exercise: 57 (Serge I: 2003-02-14)** <br>\n",
    "For classes having irreparable combat losses and at least three ships in the database, display the name of the class and the number of ships sunk."
   ]
  },
  {
   "cell_type": "markdown",
   "metadata": {},
   "source": [
    "class, # of ships sunk\n",
    "where class has at least one ship with irreperable combat losses & (# of ships)>3"
   ]
  },
  {
   "cell_type": "markdown",
   "metadata": {},
   "source": [
    "unique ships with sunk ships\n"
   ]
  },
  {
   "cell_type": "code",
   "execution_count": 7,
   "metadata": {
    "collapsed": false
   },
   "outputs": [
    {
     "data": {
      "text/html": [
       "<div>\n",
       "<table border=\"1\" class=\"dataframe\">\n",
       "  <thead>\n",
       "    <tr style=\"text-align: right;\">\n",
       "      <th></th>\n",
       "      <th>class</th>\n",
       "      <th>sunk</th>\n",
       "    </tr>\n",
       "  </thead>\n",
       "  <tbody>\n",
       "    <tr>\n",
       "      <th>0</th>\n",
       "      <td>Kongo</td>\n",
       "      <td>1</td>\n",
       "    </tr>\n",
       "  </tbody>\n",
       "</table>\n",
       "</div>"
      ],
      "text/plain": [
       "   class  sunk\n",
       "0  Kongo     1"
      ]
     },
     "execution_count": 7,
     "metadata": {},
     "output_type": "execute_result"
    }
   ],
   "source": [
    "q='''\n",
    "WITH out AS\n",
    "(\n",
    " SELECT DISTINCT ship FROM outcomes WHERE result = 'sunk'\n",
    "),\n",
    " t1 AS (SELECT DISTINCT c.class,\n",
    "\n",
    "\n",
    "(SELECT DISTINCT COUNT(s.name) FROM ships s WHERE s.class = c.class)\n",
    "+\n",
    "(SELECT DISTINCT COUNT(o.ship) FROM out o WHERE o.ship = c.class AND \n",
    "o.ship NOT IN (SELECT name FROM ships)) ships_qty,\n",
    "(SELECT DISTINCT COUNT(o.ship)\n",
    "\n",
    "\n",
    "\n",
    "\n",
    "\n",
    "\n",
    "\n",
    "FROM out o\n",
    "WHERE o.ship = c.class OR\n",
    " (SELECT COUNT(s.name) FROM ships s WHERE s.name = o.ship AND s.class = c.class) > 0\n",
    ") sunk\n",
    "FROM classes c\n",
    ")\n",
    "\n",
    "SELECT class, sunk FROM t1\n",
    "WHERE t1.ships_qty >= 3\n",
    "AND t1.sunk >= 1\n",
    "'''\n",
    "sql(q)"
   ]
  },
  {
   "cell_type": "code",
   "execution_count": 4,
   "metadata": {
    "collapsed": true
   },
   "outputs": [
    {
     "data": {
      "text/html": [
       "<div>\n",
       "<table border=\"1\" class=\"dataframe\">\n",
       "  <thead>\n",
       "    <tr style=\"text-align: right;\">\n",
       "      <th></th>\n",
       "      <th>class</th>\n",
       "      <th>result</th>\n",
       "    </tr>\n",
       "  </thead>\n",
       "  <tbody>\n",
       "    <tr>\n",
       "      <th>0</th>\n",
       "      <td>Bismarck</td>\n",
       "      <td>0</td>\n",
       "    </tr>\n",
       "    <tr>\n",
       "      <th>1</th>\n",
       "      <td>Bismarck</td>\n",
       "      <td>1</td>\n",
       "    </tr>\n",
       "    <tr>\n",
       "      <th>2</th>\n",
       "      <td>Iowa</td>\n",
       "      <td>0</td>\n",
       "    </tr>\n",
       "    <tr>\n",
       "      <th>3</th>\n",
       "      <td>Kongo</td>\n",
       "      <td>0</td>\n",
       "    </tr>\n",
       "    <tr>\n",
       "      <th>4</th>\n",
       "      <td>Kongo</td>\n",
       "      <td>1</td>\n",
       "    </tr>\n",
       "    <tr>\n",
       "      <th>5</th>\n",
       "      <td>North Carolina</td>\n",
       "      <td>0</td>\n",
       "    </tr>\n",
       "    <tr>\n",
       "      <th>6</th>\n",
       "      <td>Renown</td>\n",
       "      <td>0</td>\n",
       "    </tr>\n",
       "    <tr>\n",
       "      <th>7</th>\n",
       "      <td>Revenge</td>\n",
       "      <td>0</td>\n",
       "    </tr>\n",
       "    <tr>\n",
       "      <th>8</th>\n",
       "      <td>Tennessee</td>\n",
       "      <td>0</td>\n",
       "    </tr>\n",
       "    <tr>\n",
       "      <th>9</th>\n",
       "      <td>Yamato</td>\n",
       "      <td>0</td>\n",
       "    </tr>\n",
       "  </tbody>\n",
       "</table>\n",
       "</div>"
      ],
      "text/plain": [
       "            class  result\n",
       "0        Bismarck       0\n",
       "1        Bismarck       1\n",
       "2            Iowa       0\n",
       "3           Kongo       0\n",
       "4           Kongo       1\n",
       "5  North Carolina       0\n",
       "6          Renown       0\n",
       "7         Revenge       0\n",
       "8       Tennessee       0\n",
       "9          Yamato       0"
      ]
     },
     "execution_count": 4,
     "metadata": {},
     "output_type": "execute_result"
    }
   ],
   "source": [
    "q='''\n",
    "\n",
    "select classes.class, case when outcomes.result = 'sunk' then 1 else 0 end as result from classes \n",
    "left join ships on ships.class = classes.class\n",
    "left join outcomes on outcomes.ship = ships.name\n",
    "union\n",
    "select classes.class, case when outcomes.result = 'sunk' then 1 else 0 end  as result from classes\n",
    "left join outcomes on outcomes.ship = classes.class\n",
    "\n",
    "\n",
    "'''\n",
    "sql(q)"
   ]
  },
  {
   "cell_type": "code",
   "execution_count": null,
   "metadata": {
    "collapsed": true
   },
   "outputs": [],
   "source": [
    "THIS RESULT IS WRONG ON CHECKING.  REVIEW FAQ."
   ]
  },
  {
   "cell_type": "code",
   "execution_count": 24,
   "metadata": {
    "collapsed": false
   },
   "outputs": [
    {
     "data": {
      "text/html": [
       "<div>\n",
       "<table border=\"1\" class=\"dataframe\">\n",
       "  <thead>\n",
       "    <tr style=\"text-align: right;\">\n",
       "      <th></th>\n",
       "      <th>class</th>\n",
       "      <th>sunken</th>\n",
       "    </tr>\n",
       "  </thead>\n",
       "  <tbody>\n",
       "    <tr>\n",
       "      <th>0</th>\n",
       "      <td>Kongo</td>\n",
       "      <td>1</td>\n",
       "    </tr>\n",
       "  </tbody>\n",
       "</table>\n",
       "</div>"
      ],
      "text/plain": [
       "   class  sunken\n",
       "0  Kongo       1"
      ]
     },
     "execution_count": 24,
     "metadata": {},
     "output_type": "execute_result"
    }
   ],
   "source": [
    "q='''\n",
    "with temp1 as (\n",
    "select classes.class, \n",
    "case when outcomes.result = 'sunk' then 1 else 0 end as result from classes \n",
    "left join ships on ships.class = classes.class\n",
    "left join outcomes on outcomes.ship = ships.name\n",
    "union\n",
    "select classes.class, \n",
    "case when outcomes.result = 'sunk' then 1 else 0 end as result from classes\n",
    "left join outcomes on outcomes.ship = classes.class\n",
    "),\n",
    "\n",
    "temp2 as (\n",
    "select classes.class from classes \n",
    "join ships on ships.class = classes.class\n",
    "where classes.class in\n",
    "(select classes.class from classes join ships on ships.class = classes.class\n",
    "group by classes.class\n",
    "having count(ships.name)>2)\n",
    "union\n",
    "select classes.class from classes \n",
    "join outcomes on outcomes.ship = classes.class\n",
    "where classes.class in\n",
    "(select classes.class from classes join outcomes on outcomes.ship = classes.class\n",
    "group by classes.class\n",
    "having count(outcomes.ship)>2)\n",
    ")\n",
    "\n",
    "select temp1.class, sum(temp1.result) as sunken  from temp1 \n",
    "join temp2 on temp2.class = temp1.class\n",
    "group by temp1.class\n",
    "having sum(temp1.result) =1\n",
    "'''\n",
    "sql(q)"
   ]
  },
  {
   "cell_type": "code",
   "execution_count": 26,
   "metadata": {
    "collapsed": false
   },
   "outputs": [
    {
     "data": {
      "text/html": [
       "<div>\n",
       "<table border=\"1\" class=\"dataframe\">\n",
       "  <thead>\n",
       "    <tr style=\"text-align: right;\">\n",
       "      <th></th>\n",
       "      <th>class</th>\n",
       "    </tr>\n",
       "  </thead>\n",
       "  <tbody>\n",
       "    <tr>\n",
       "      <th>0</th>\n",
       "      <td>Iowa</td>\n",
       "    </tr>\n",
       "    <tr>\n",
       "      <th>1</th>\n",
       "      <td>Kongo</td>\n",
       "    </tr>\n",
       "    <tr>\n",
       "      <th>2</th>\n",
       "      <td>North Carolina</td>\n",
       "    </tr>\n",
       "    <tr>\n",
       "      <th>3</th>\n",
       "      <td>Renown</td>\n",
       "    </tr>\n",
       "    <tr>\n",
       "      <th>4</th>\n",
       "      <td>Revenge</td>\n",
       "    </tr>\n",
       "  </tbody>\n",
       "</table>\n",
       "</div>"
      ],
      "text/plain": [
       "            class\n",
       "0            Iowa\n",
       "1           Kongo\n",
       "2  North Carolina\n",
       "3          Renown\n",
       "4         Revenge"
      ]
     },
     "execution_count": 26,
     "metadata": {},
     "output_type": "execute_result"
    }
   ],
   "source": [
    "q='''\n",
    "with temp2 as (\n",
    "select classes.class from classes \n",
    "join ships on ships.class = classes.class\n",
    "where classes.class in\n",
    "(select classes.class from classes join ships on ships.class = classes.class\n",
    "group by classes.class\n",
    "having count(ships.name)>2)\n",
    "union\n",
    "select classes.class from classes \n",
    "join outcomes on outcomes.ship = classes.class\n",
    "where classes.class in\n",
    "(select classes.class from classes join outcomes on outcomes.ship = classes.class\n",
    "group by classes.class\n",
    "having count(outcomes.ship)>2)\n",
    ")\n",
    "select * from temp2\n",
    "'''\n",
    "sql(q)"
   ]
  },
  {
   "cell_type": "code",
   "execution_count": 30,
   "metadata": {
    "collapsed": false
   },
   "outputs": [
    {
     "data": {
      "text/html": [
       "<div>\n",
       "<table border=\"1\" class=\"dataframe\">\n",
       "  <thead>\n",
       "    <tr style=\"text-align: right;\">\n",
       "      <th></th>\n",
       "      <th>class</th>\n",
       "    </tr>\n",
       "  </thead>\n",
       "  <tbody>\n",
       "    <tr>\n",
       "      <th>0</th>\n",
       "      <td>Kongo</td>\n",
       "    </tr>\n",
       "  </tbody>\n",
       "</table>\n",
       "</div>"
      ],
      "text/plain": [
       "   class\n",
       "0  Kongo"
      ]
     },
     "execution_count": 30,
     "metadata": {},
     "output_type": "execute_result"
    }
   ],
   "source": [
    "q='''\n",
    "select * from classes join ships on ships.class = classes.class \n",
    "(\n",
    "select class from classes \n",
    "where class in\n",
    "(select classes.class from classes join ships on ships.class=classes.class\n",
    "join outcomes on outcomes.ship=ships.name where result='sunk')\n",
    "and class in \n",
    "(select classes.class from classes \n",
    "join ships on ships.class = classes.class\n",
    "group by classes.class\n",
    "having count(ships.name)>2)\n",
    ")\n",
    "'''\n",
    "sql(q)"
   ]
  },
  {
   "cell_type": "markdown",
   "metadata": {},
   "source": [
    "**Exercise: 56 (Serge I: 2003-02-16)** <br>\n",
    "For each class, find out the number of ships of this class that were sunk in battles.  <br>\n",
    "Result set: class, number of ships sunk."
   ]
  },
  {
   "cell_type": "code",
   "execution_count": 20,
   "metadata": {
    "collapsed": false
   },
   "outputs": [
    {
     "data": {
      "text/html": [
       "<div>\n",
       "<table border=\"1\" class=\"dataframe\">\n",
       "  <thead>\n",
       "    <tr style=\"text-align: right;\">\n",
       "      <th></th>\n",
       "      <th>class</th>\n",
       "      <th>result</th>\n",
       "    </tr>\n",
       "  </thead>\n",
       "  <tbody>\n",
       "    <tr>\n",
       "      <th>0</th>\n",
       "      <td>Bismarck</td>\n",
       "      <td>1</td>\n",
       "    </tr>\n",
       "    <tr>\n",
       "      <th>1</th>\n",
       "      <td>Iowa</td>\n",
       "      <td>0</td>\n",
       "    </tr>\n",
       "    <tr>\n",
       "      <th>2</th>\n",
       "      <td>Kongo</td>\n",
       "      <td>1</td>\n",
       "    </tr>\n",
       "    <tr>\n",
       "      <th>3</th>\n",
       "      <td>North Carolina</td>\n",
       "      <td>0</td>\n",
       "    </tr>\n",
       "    <tr>\n",
       "      <th>4</th>\n",
       "      <td>Renown</td>\n",
       "      <td>0</td>\n",
       "    </tr>\n",
       "    <tr>\n",
       "      <th>5</th>\n",
       "      <td>Revenge</td>\n",
       "      <td>0</td>\n",
       "    </tr>\n",
       "    <tr>\n",
       "      <th>6</th>\n",
       "      <td>Tennessee</td>\n",
       "      <td>0</td>\n",
       "    </tr>\n",
       "    <tr>\n",
       "      <th>7</th>\n",
       "      <td>Yamato</td>\n",
       "      <td>0</td>\n",
       "    </tr>\n",
       "  </tbody>\n",
       "</table>\n",
       "</div>"
      ],
      "text/plain": [
       "            class  result\n",
       "0        Bismarck       1\n",
       "1            Iowa       0\n",
       "2           Kongo       1\n",
       "3  North Carolina       0\n",
       "4          Renown       0\n",
       "5         Revenge       0\n",
       "6       Tennessee       0\n",
       "7          Yamato       0"
      ]
     },
     "execution_count": 20,
     "metadata": {},
     "output_type": "execute_result"
    }
   ],
   "source": [
    "#to have classes with a count of zero, you'd need to start from the class table\n",
    "\n",
    "q='''\n",
    "with temp as (\n",
    "select classes.class, outcomes.ship, outcomes.result,\n",
    "case when result = 'sunk' then 1 else 0 end as 'sum'\n",
    "from classes\n",
    "left join ships on ships.class = classes.class\n",
    "left join outcomes on outcomes.ship = ships.name\n",
    "union\n",
    "select classes.class, outcomes.ship, outcomes.result,\n",
    "case when result = 'sunk' then 1 else 0 end as 'sum'\n",
    "from classes\n",
    "left join outcomes on outcomes.ship = classes.class\n",
    ")\n",
    "select class, sum(sum) as result\n",
    "from temp\n",
    "group by class\n",
    "'''\n",
    "sql(q)"
   ]
  },
  {
   "cell_type": "markdown",
   "metadata": {},
   "source": [
    "**Exercise: 55 (Serge I: 2003-02-16)** <br>\n",
    "For each class, determine the year the first ship of this class was launched. \n",
    "If the lead ship’s year of launch is not known, get the minimum year of launch for the ships of this class. <br>\n",
    "Result set: class, year."
   ]
  },
  {
   "cell_type": "code",
   "execution_count": 28,
   "metadata": {
    "collapsed": false
   },
   "outputs": [
    {
     "data": {
      "text/html": [
       "<div>\n",
       "<table border=\"1\" class=\"dataframe\">\n",
       "  <thead>\n",
       "    <tr style=\"text-align: right;\">\n",
       "      <th></th>\n",
       "      <th>class</th>\n",
       "      <th>min(launched)</th>\n",
       "    </tr>\n",
       "  </thead>\n",
       "  <tbody>\n",
       "    <tr>\n",
       "      <th>0</th>\n",
       "      <td>Bismarck</td>\n",
       "      <td>NaN</td>\n",
       "    </tr>\n",
       "    <tr>\n",
       "      <th>1</th>\n",
       "      <td>Iowa</td>\n",
       "      <td>1943.0</td>\n",
       "    </tr>\n",
       "    <tr>\n",
       "      <th>2</th>\n",
       "      <td>Kongo</td>\n",
       "      <td>1913.0</td>\n",
       "    </tr>\n",
       "    <tr>\n",
       "      <th>3</th>\n",
       "      <td>North Carolina</td>\n",
       "      <td>1941.0</td>\n",
       "    </tr>\n",
       "    <tr>\n",
       "      <th>4</th>\n",
       "      <td>Renown</td>\n",
       "      <td>1916.0</td>\n",
       "    </tr>\n",
       "    <tr>\n",
       "      <th>5</th>\n",
       "      <td>Revenge</td>\n",
       "      <td>1916.0</td>\n",
       "    </tr>\n",
       "    <tr>\n",
       "      <th>6</th>\n",
       "      <td>Tennessee</td>\n",
       "      <td>1920.0</td>\n",
       "    </tr>\n",
       "    <tr>\n",
       "      <th>7</th>\n",
       "      <td>Yamato</td>\n",
       "      <td>1941.0</td>\n",
       "    </tr>\n",
       "  </tbody>\n",
       "</table>\n",
       "</div>"
      ],
      "text/plain": [
       "            class  min(launched)\n",
       "0        Bismarck            NaN\n",
       "1            Iowa         1943.0\n",
       "2           Kongo         1913.0\n",
       "3  North Carolina         1941.0\n",
       "4          Renown         1916.0\n",
       "5         Revenge         1916.0\n",
       "6       Tennessee         1920.0\n",
       "7          Yamato         1941.0"
      ]
     },
     "execution_count": 28,
     "metadata": {},
     "output_type": "execute_result"
    }
   ],
   "source": [
    "q='''\n",
    "select classes.class, min(launched)\n",
    "from classes \n",
    "left join outcomes on outcomes.ship = classes.class\n",
    "left join ships on ships.class = classes.class\n",
    "group by classes.class\n",
    "\n",
    "'''\n",
    "sql(q)"
   ]
  },
  {
   "cell_type": "markdown",
   "metadata": {},
   "source": [
    "**Exercise: 54 (Serge I: 2003-02-14)<br>\n",
    "With a precision of two decimal places, determine the average number of guns for all<br> battleships (including the ones in the Outcomes table).**"
   ]
  },
  {
   "cell_type": "code",
   "execution_count": 11,
   "metadata": {
    "collapsed": false
   },
   "outputs": [
    {
     "data": {
      "text/html": [
       "<div>\n",
       "<table border=\"1\" class=\"dataframe\">\n",
       "  <thead>\n",
       "    <tr style=\"text-align: right;\">\n",
       "      <th></th>\n",
       "      <th>cast(avg(numGuns+0.0) as decimal(10,2))</th>\n",
       "    </tr>\n",
       "  </thead>\n",
       "  <tbody>\n",
       "    <tr>\n",
       "      <th>0</th>\n",
       "      <td>9.625</td>\n",
       "    </tr>\n",
       "  </tbody>\n",
       "</table>\n",
       "</div>"
      ],
      "text/plain": [
       "   cast(avg(numGuns+0.0) as decimal(10,2))\n",
       "0                                    9.625"
      ]
     },
     "execution_count": 11,
     "metadata": {},
     "output_type": "execute_result"
    }
   ],
   "source": [
    "q='''\n",
    "with temp as (\n",
    "select name, numGuns from classes join ships on ships.class = classes.class where type='bb'\n",
    "union\n",
    "select ship, numGuns from classes join outcomes on outcomes.ship = classes.class where \n",
    "type = 'bb'\n",
    ")\n",
    "select cast(avg(numGuns+0.0) as decimal(10,2)) from temp\n",
    "\n",
    "'''\n",
    "sql(q)"
   ]
  },
  {
   "cell_type": "markdown",
   "metadata": {},
   "source": [
    "**Exercise: 53 (Serge I: 2002-11-05) <br>\n",
    "With a precision of two decimal places, determine the average number of guns for the <br> battleship classes.**"
   ]
  },
  {
   "cell_type": "code",
   "execution_count": 3,
   "metadata": {
    "collapsed": false
   },
   "outputs": [
    {
     "data": {
      "text/html": [
       "<div>\n",
       "<table border=\"1\" class=\"dataframe\">\n",
       "  <thead>\n",
       "    <tr style=\"text-align: right;\">\n",
       "      <th></th>\n",
       "      <th>cast(avg(numGuns+0.0) as decimal(3,2))</th>\n",
       "    </tr>\n",
       "  </thead>\n",
       "  <tbody>\n",
       "    <tr>\n",
       "      <th>0</th>\n",
       "      <td>9.666667</td>\n",
       "    </tr>\n",
       "  </tbody>\n",
       "</table>\n",
       "</div>"
      ],
      "text/plain": [
       "   cast(avg(numGuns+0.0) as decimal(3,2))\n",
       "0                                9.666667"
      ]
     },
     "execution_count": 3,
     "metadata": {},
     "output_type": "execute_result"
    }
   ],
   "source": [
    "#an interesting aspect of arithmetic arguments in sql is that the result is always\n",
    "#the data type of the arguments.  If average() is on integers, even if the answer SHOULD have\n",
    "# a fractional amount, this amount is discarded!  \n",
    "\n",
    "#Solution turn numGuns into a float by adding 0.0!!!!\n",
    "#10 is the maximum length, and 2 is the number of decimal places\n",
    "q='''\n",
    "select cast(avg(numGuns+0.0) as decimal(10,2)) from classes \n",
    "where type ='bb'\n",
    "'''\n",
    "sql(q)"
   ]
  },
  {
   "cell_type": "markdown",
   "metadata": {},
   "source": [
    "**Exercise: 52 (qwrqwr: 2010-04-23) <br>\n",
    "Determine the names of all ships in the Ships table that can be a Japanese battleship having at least nine main guns with a caliber of less than 19 inches and a displacement of not more than 65 000 tons.**\n",
    "<br>"
   ]
  },
  {
   "cell_type": "code",
   "execution_count": 154,
   "metadata": {
    "collapsed": false
   },
   "outputs": [
    {
     "data": {
      "text/html": [
       "<div>\n",
       "<table border=\"1\" class=\"dataframe\">\n",
       "  <thead>\n",
       "    <tr style=\"text-align: right;\">\n",
       "      <th></th>\n",
       "      <th>name</th>\n",
       "    </tr>\n",
       "  </thead>\n",
       "  <tbody>\n",
       "    <tr>\n",
       "      <th>0</th>\n",
       "      <td>Musashi</td>\n",
       "    </tr>\n",
       "    <tr>\n",
       "      <th>1</th>\n",
       "      <td>Yamato</td>\n",
       "    </tr>\n",
       "  </tbody>\n",
       "</table>\n",
       "</div>"
      ],
      "text/plain": [
       "      name\n",
       "0  Musashi\n",
       "1   Yamato"
      ]
     },
     "execution_count": 154,
     "metadata": {},
     "output_type": "execute_result"
    }
   ],
   "source": [
    "q='''\n",
    "select name from ships join classes on classes.class = ships.class\n",
    "where (type = 'bb' or type IS NULL)\n",
    "and (country = 'Japan' or country IS NULL)\n",
    "and (numGuns>=9 or numGuns IS NULL)\n",
    "and (bore <19 or bore IS NULL)\n",
    "and (displacement <=65000 or displacement IS NULL)\n",
    "'''\n",
    "sql(q)"
   ]
  },
  {
   "cell_type": "markdown",
   "metadata": {},
   "source": [
    "** Exercise: 51 (Serge I: 2003-02-17)<br>\n",
    "Find the names of the ships with the largest number of guns among all ships having the same displacement (including ships in the Outcomes table).**"
   ]
  },
  {
   "cell_type": "code",
   "execution_count": 131,
   "metadata": {
    "collapsed": true
   },
   "outputs": [
    {
     "data": {
      "text/html": [
       "<div>\n",
       "<table border=\"1\" class=\"dataframe\">\n",
       "  <thead>\n",
       "    <tr style=\"text-align: right;\">\n",
       "      <th></th>\n",
       "      <th>name</th>\n",
       "    </tr>\n",
       "  </thead>\n",
       "  <tbody>\n",
       "    <tr>\n",
       "      <th>0</th>\n",
       "      <td>Bismarck</td>\n",
       "    </tr>\n",
       "    <tr>\n",
       "      <th>1</th>\n",
       "      <td>California</td>\n",
       "    </tr>\n",
       "    <tr>\n",
       "      <th>2</th>\n",
       "      <td>Iowa</td>\n",
       "    </tr>\n",
       "    <tr>\n",
       "      <th>3</th>\n",
       "      <td>Missouri</td>\n",
       "    </tr>\n",
       "    <tr>\n",
       "      <th>4</th>\n",
       "      <td>Musashi</td>\n",
       "    </tr>\n",
       "    <tr>\n",
       "      <th>5</th>\n",
       "      <td>New Jersey</td>\n",
       "    </tr>\n",
       "    <tr>\n",
       "      <th>6</th>\n",
       "      <td>North Carolina</td>\n",
       "    </tr>\n",
       "    <tr>\n",
       "      <th>7</th>\n",
       "      <td>Ramillies</td>\n",
       "    </tr>\n",
       "    <tr>\n",
       "      <th>8</th>\n",
       "      <td>Revenge</td>\n",
       "    </tr>\n",
       "    <tr>\n",
       "      <th>9</th>\n",
       "      <td>Royal Oak</td>\n",
       "    </tr>\n",
       "    <tr>\n",
       "      <th>10</th>\n",
       "      <td>Royal Sovereign</td>\n",
       "    </tr>\n",
       "    <tr>\n",
       "      <th>11</th>\n",
       "      <td>South Dakota</td>\n",
       "    </tr>\n",
       "    <tr>\n",
       "      <th>12</th>\n",
       "      <td>Tennessee</td>\n",
       "    </tr>\n",
       "    <tr>\n",
       "      <th>13</th>\n",
       "      <td>Washington</td>\n",
       "    </tr>\n",
       "    <tr>\n",
       "      <th>14</th>\n",
       "      <td>Wisconsin</td>\n",
       "    </tr>\n",
       "    <tr>\n",
       "      <th>15</th>\n",
       "      <td>Yamato</td>\n",
       "    </tr>\n",
       "  </tbody>\n",
       "</table>\n",
       "</div>"
      ],
      "text/plain": [
       "               name\n",
       "0          Bismarck\n",
       "1        California\n",
       "2              Iowa\n",
       "3          Missouri\n",
       "4           Musashi\n",
       "5        New Jersey\n",
       "6    North Carolina\n",
       "7         Ramillies\n",
       "8           Revenge\n",
       "9         Royal Oak\n",
       "10  Royal Sovereign\n",
       "11     South Dakota\n",
       "12        Tennessee\n",
       "13       Washington\n",
       "14        Wisconsin\n",
       "15           Yamato"
      ]
     },
     "execution_count": 131,
     "metadata": {},
     "output_type": "execute_result"
    }
   ],
   "source": [
    "q='''\n",
    "\n",
    "SELECT name\n",
    "FROM \n",
    "(SELECT O.ship AS name, numGuns, displacement\n",
    " FROM Outcomes O INNER JOIN \n",
    " Classes C ON O.ship = C.class AND \n",
    " O.ship NOT IN (SELECT name FROM Ships) \n",
    " UNION\n",
    " SELECT S.name AS name, numGuns, displacement \n",
    " FROM Ships S INNER JOIN \n",
    " Classes C ON S.class = C.class ) OS  \n",
    " \n",
    " INNER JOIN \n",
    " (SELECT MAX(MaxNumGuns) AS Max, displacement from\n",
    " (SELECT MAX(numGuns) AS MaxNumGuns, displacement\n",
    " \n",
    " FROM Outcomes O INNER JOIN \n",
    " Classes C ON O.ship = C.class AND \n",
    " O.ship NOT IN (SELECT name FROM Ships) \n",
    " GROUP BY displacement\n",
    " UNION\n",
    " SELECT MAX(numGuns) AS MaxNumGuns, displacement\n",
    " FROM Ships S INNER JOIN \n",
    " Classes C ON S.class = C.class\n",
    " GROUP BY displacement) GD \n",
    " \n",
    " GROUP BY displacement\n",
    " ) GD2\n",
    " \n",
    " ON OS.numGuns = GD2.Max AND \n",
    " OS.displacement = GD2.displacement;\n",
    " \n",
    " '''\n",
    "sql(q)"
   ]
  },
  {
   "cell_type": "code",
   "execution_count": 132,
   "metadata": {
    "collapsed": true
   },
   "outputs": [],
   "source": [
    "q='''\n",
    "Creating multiple cte's and joining them; notice there is no WITH on the second CTE \n",
    "WITH SomeCTE AS (\n",
    "  SELECT ...\n",
    "  FROM ...\n",
    "), AnotherCTE AS (\n",
    "  SELECT ...\n",
    "  FROM ...\n",
    ")\n",
    "SELECT *\n",
    "FROM SomeCTE LEFT JOIN\n",
    "     AnotherCTE ON ...\n",
    ";\n",
    "'''"
   ]
  },
  {
   "cell_type": "code",
   "execution_count": 127,
   "metadata": {
    "collapsed": true
   },
   "outputs": [
    {
     "data": {
      "text/html": [
       "<div>\n",
       "<table border=\"1\" class=\"dataframe\">\n",
       "  <thead>\n",
       "    <tr style=\"text-align: right;\">\n",
       "      <th></th>\n",
       "      <th>name</th>\n",
       "    </tr>\n",
       "  </thead>\n",
       "  <tbody>\n",
       "    <tr>\n",
       "      <th>0</th>\n",
       "      <td>Bismarck</td>\n",
       "    </tr>\n",
       "    <tr>\n",
       "      <th>1</th>\n",
       "      <td>California</td>\n",
       "    </tr>\n",
       "    <tr>\n",
       "      <th>2</th>\n",
       "      <td>Iowa</td>\n",
       "    </tr>\n",
       "    <tr>\n",
       "      <th>3</th>\n",
       "      <td>Missouri</td>\n",
       "    </tr>\n",
       "    <tr>\n",
       "      <th>4</th>\n",
       "      <td>Musashi</td>\n",
       "    </tr>\n",
       "    <tr>\n",
       "      <th>5</th>\n",
       "      <td>New Jersey</td>\n",
       "    </tr>\n",
       "    <tr>\n",
       "      <th>6</th>\n",
       "      <td>North Carolina</td>\n",
       "    </tr>\n",
       "    <tr>\n",
       "      <th>7</th>\n",
       "      <td>Ramillies</td>\n",
       "    </tr>\n",
       "    <tr>\n",
       "      <th>8</th>\n",
       "      <td>Revenge</td>\n",
       "    </tr>\n",
       "    <tr>\n",
       "      <th>9</th>\n",
       "      <td>Royal Oak</td>\n",
       "    </tr>\n",
       "    <tr>\n",
       "      <th>10</th>\n",
       "      <td>Royal Sovereign</td>\n",
       "    </tr>\n",
       "    <tr>\n",
       "      <th>11</th>\n",
       "      <td>South Dakota</td>\n",
       "    </tr>\n",
       "    <tr>\n",
       "      <th>12</th>\n",
       "      <td>Tennessee</td>\n",
       "    </tr>\n",
       "    <tr>\n",
       "      <th>13</th>\n",
       "      <td>Washington</td>\n",
       "    </tr>\n",
       "    <tr>\n",
       "      <th>14</th>\n",
       "      <td>Wisconsin</td>\n",
       "    </tr>\n",
       "    <tr>\n",
       "      <th>15</th>\n",
       "      <td>Yamato</td>\n",
       "    </tr>\n",
       "  </tbody>\n",
       "</table>\n",
       "</div>"
      ],
      "text/plain": [
       "               name\n",
       "0          Bismarck\n",
       "1        California\n",
       "2              Iowa\n",
       "3          Missouri\n",
       "4           Musashi\n",
       "5        New Jersey\n",
       "6    North Carolina\n",
       "7         Ramillies\n",
       "8           Revenge\n",
       "9         Royal Oak\n",
       "10  Royal Sovereign\n",
       "11     South Dakota\n",
       "12        Tennessee\n",
       "13       Washington\n",
       "14        Wisconsin\n",
       "15           Yamato"
      ]
     },
     "execution_count": 127,
     "metadata": {},
     "output_type": "execute_result"
    }
   ],
   "source": [
    "q='''\n",
    "with temp as (\n",
    "select name, classes.class, numGuns, displacement from ships \n",
    "join classes on classes.class = ships.class\n",
    "union \n",
    "select ship, classes.class, numGuns, displacement from outcomes \n",
    "join classes on classes.class = outcomes.ship\n",
    "),\n",
    "\n",
    "\n",
    "temp2 as (\n",
    "select displacement, max(table_max) as max from\n",
    "(select displacement, max(numGuns) as table_max from classes \n",
    "join ships on ships.class = classes.class\n",
    "group by displacement\n",
    "union\n",
    "select displacement, max(numGuns) from classes \n",
    "join outcomes on outcomes.ship = classes.class\n",
    "group by displacement) temp\n",
    "group by displacement)\n",
    "\n",
    "\n",
    "select name from temp\n",
    "join temp2 on (temp2.displacement = temp.displacement)\n",
    "and (temp2.max = temp.numGuns)\n",
    "\n",
    "\n",
    "'''\n",
    "sql(q)"
   ]
  },
  {
   "cell_type": "markdown",
   "metadata": {},
   "source": [
    "**Exercise: 50 (Serge I: 2002-11-05) <br>\n",
    "Find the battles in which Kongo-class ships from the Ships table were engaged.**"
   ]
  },
  {
   "cell_type": "code",
   "execution_count": 48,
   "metadata": {
    "collapsed": false
   },
   "outputs": [
    {
     "data": {
      "text/html": [
       "<div>\n",
       "<table border=\"1\" class=\"dataframe\">\n",
       "  <thead>\n",
       "    <tr style=\"text-align: right;\">\n",
       "      <th></th>\n",
       "      <th>battle</th>\n",
       "    </tr>\n",
       "  </thead>\n",
       "  <tbody>\n",
       "    <tr>\n",
       "      <th>0</th>\n",
       "      <td>Guadalcanal</td>\n",
       "    </tr>\n",
       "  </tbody>\n",
       "</table>\n",
       "</div>"
      ],
      "text/plain": [
       "        battle\n",
       "0  Guadalcanal"
      ]
     },
     "execution_count": 48,
     "metadata": {},
     "output_type": "execute_result"
    }
   ],
   "source": [
    "q='''\n",
    "select battle from outcomes join ships on ships.name = outcomes.ship\n",
    "where ships.class = 'Kongo'\n",
    "group by battle\n",
    "\n",
    "'''\n",
    "sql(q)"
   ]
  },
  {
   "cell_type": "markdown",
   "metadata": {},
   "source": [
    "**Exercise: 49 (Serge I: 2003-02-17)<br>\n",
    "Find the names of the ships having a gun caliber of 16 inches (including ships in the Outcomes table).**"
   ]
  },
  {
   "cell_type": "code",
   "execution_count": 41,
   "metadata": {
    "collapsed": false
   },
   "outputs": [
    {
     "data": {
      "text/html": [
       "<div>\n",
       "<table border=\"1\" class=\"dataframe\">\n",
       "  <thead>\n",
       "    <tr style=\"text-align: right;\">\n",
       "      <th></th>\n",
       "      <th>name</th>\n",
       "    </tr>\n",
       "  </thead>\n",
       "  <tbody>\n",
       "    <tr>\n",
       "      <th>0</th>\n",
       "      <td>Iowa</td>\n",
       "    </tr>\n",
       "    <tr>\n",
       "      <th>1</th>\n",
       "      <td>Missouri</td>\n",
       "    </tr>\n",
       "    <tr>\n",
       "      <th>2</th>\n",
       "      <td>New Jersey</td>\n",
       "    </tr>\n",
       "    <tr>\n",
       "      <th>3</th>\n",
       "      <td>North Carolina</td>\n",
       "    </tr>\n",
       "    <tr>\n",
       "      <th>4</th>\n",
       "      <td>South Dakota</td>\n",
       "    </tr>\n",
       "    <tr>\n",
       "      <th>5</th>\n",
       "      <td>Washington</td>\n",
       "    </tr>\n",
       "    <tr>\n",
       "      <th>6</th>\n",
       "      <td>Wisconsin</td>\n",
       "    </tr>\n",
       "  </tbody>\n",
       "</table>\n",
       "</div>"
      ],
      "text/plain": [
       "             name\n",
       "0            Iowa\n",
       "1        Missouri\n",
       "2      New Jersey\n",
       "3  North Carolina\n",
       "4    South Dakota\n",
       "5      Washington\n",
       "6       Wisconsin"
      ]
     },
     "execution_count": 41,
     "metadata": {},
     "output_type": "execute_result"
    }
   ],
   "source": [
    "q='''\n",
    "select name from classes join ships on ships.class = classes.class \n",
    "where bore =16\n",
    "union \n",
    "select ship from classes join outcomes on outcomes.ship = classes.class\n",
    "where bore =16\n",
    "'''\n",
    "sql(q)"
   ]
  },
  {
   "cell_type": "markdown",
   "metadata": {},
   "source": [
    "**Exercise: 48 (Serge I: 2003-02-16) <br>\n",
    "Find the ship classes having at least one ship sunk in battles.**"
   ]
  },
  {
   "cell_type": "code",
   "execution_count": 21,
   "metadata": {
    "collapsed": false
   },
   "outputs": [
    {
     "data": {
      "text/html": [
       "<div>\n",
       "<table border=\"1\" class=\"dataframe\">\n",
       "  <thead>\n",
       "    <tr style=\"text-align: right;\">\n",
       "      <th></th>\n",
       "      <th>class</th>\n",
       "    </tr>\n",
       "  </thead>\n",
       "  <tbody>\n",
       "    <tr>\n",
       "      <th>0</th>\n",
       "      <td>Bismarck</td>\n",
       "    </tr>\n",
       "    <tr>\n",
       "      <th>1</th>\n",
       "      <td>Kongo</td>\n",
       "    </tr>\n",
       "  </tbody>\n",
       "</table>\n",
       "</div>"
      ],
      "text/plain": [
       "      class\n",
       "0  Bismarck\n",
       "1     Kongo"
      ]
     },
     "execution_count": 21,
     "metadata": {},
     "output_type": "execute_result"
    }
   ],
   "source": [
    "q='''\n",
    "with temp as (select classes.class  from classes join ships on ships.class = classes.class\n",
    "left join outcomes on outcomes.ship = ships.name\n",
    "where result ='sunk'\n",
    "group by classes.class having count(outcomes.result)>=1\n",
    "\n",
    "union\n",
    "\n",
    "select classes.class from classes join outcomes on outcomes.ship = classes.class\n",
    "where result = 'sunk'\n",
    "group by classes.class having count(outcomes.result)>=1\n",
    ")\n",
    "select * from temp\n",
    "\n",
    "'''\n",
    "sql(q)"
   ]
  },
  {
   "cell_type": "markdown",
   "metadata": {},
   "source": [
    "**Exercise: 57 (Serge I: 2003-02-14) <br>\n",
    "For classes having irreparable combat losses and at least three ships in the database, display the name of the class and the number of ships sunk.**\n"
   ]
  },
  {
   "cell_type": "markdown",
   "metadata": {},
   "source": [
    "join classes and outcomes and only include classes where result = 'sunk' for at least one ship\n",
    "only include classes with >= 3 ships\n",
    "\n",
    "class records with ship information for ships with classes\n",
    "the above with outcomes information\n",
    "some outcomes ships are not in ships table (those whose names are a class, so\n",
    "join on "
   ]
  },
  {
   "cell_type": "code",
   "execution_count": 29,
   "metadata": {
    "collapsed": false,
    "scrolled": true
   },
   "outputs": [
    {
     "data": {
      "text/html": [
       "<div>\n",
       "<table border=\"1\" class=\"dataframe\">\n",
       "  <thead>\n",
       "    <tr style=\"text-align: right;\">\n",
       "      <th></th>\n",
       "      <th>class</th>\n",
       "      <th>count(*)</th>\n",
       "    </tr>\n",
       "  </thead>\n",
       "  <tbody>\n",
       "    <tr>\n",
       "      <th>0</th>\n",
       "      <td>Iowa</td>\n",
       "      <td>4</td>\n",
       "    </tr>\n",
       "    <tr>\n",
       "      <th>1</th>\n",
       "      <td>Kongo</td>\n",
       "      <td>4</td>\n",
       "    </tr>\n",
       "    <tr>\n",
       "      <th>2</th>\n",
       "      <td>North Carolina</td>\n",
       "      <td>3</td>\n",
       "    </tr>\n",
       "    <tr>\n",
       "      <th>3</th>\n",
       "      <td>Renown</td>\n",
       "      <td>3</td>\n",
       "    </tr>\n",
       "    <tr>\n",
       "      <th>4</th>\n",
       "      <td>Revenge</td>\n",
       "      <td>4</td>\n",
       "    </tr>\n",
       "  </tbody>\n",
       "</table>\n",
       "</div>"
      ],
      "text/plain": [
       "            class  count(*)\n",
       "0            Iowa         4\n",
       "1           Kongo         4\n",
       "2  North Carolina         3\n",
       "3          Renown         3\n",
       "4         Revenge         4"
      ]
     },
     "execution_count": 29,
     "metadata": {},
     "output_type": "execute_result"
    }
   ],
   "source": [
    "q='''\n",
    "select c.class, count(*) from classes c \n",
    "left join ships s on s.class=c.class\n",
    "left join outcomes o on o.ship=c.class\n",
    "group by c.class\n",
    "having count(*) >=3\n",
    "\n",
    "'''\n",
    "sql(q)"
   ]
  },
  {
   "cell_type": "code",
   "execution_count": 15,
   "metadata": {
    "collapsed": false
   },
   "outputs": [
    {
     "data": {
      "text/html": [
       "<div>\n",
       "<table border=\"1\" class=\"dataframe\">\n",
       "  <thead>\n",
       "    <tr style=\"text-align: right;\">\n",
       "      <th></th>\n",
       "      <th>ship</th>\n",
       "      <th>battle</th>\n",
       "      <th>result</th>\n",
       "    </tr>\n",
       "  </thead>\n",
       "  <tbody>\n",
       "    <tr>\n",
       "      <th>0</th>\n",
       "      <td>Bismarck</td>\n",
       "      <td>North Atlantic</td>\n",
       "      <td>sunk</td>\n",
       "    </tr>\n",
       "    <tr>\n",
       "      <th>1</th>\n",
       "      <td>California</td>\n",
       "      <td>Surigao Strait</td>\n",
       "      <td>OK</td>\n",
       "    </tr>\n",
       "    <tr>\n",
       "      <th>2</th>\n",
       "      <td>Duke of York</td>\n",
       "      <td>North Cape</td>\n",
       "      <td>OK</td>\n",
       "    </tr>\n",
       "  </tbody>\n",
       "</table>\n",
       "</div>"
      ],
      "text/plain": [
       "           ship          battle result\n",
       "0      Bismarck  North Atlantic   sunk\n",
       "1    California  Surigao Strait     OK\n",
       "2  Duke of York      North Cape     OK"
      ]
     },
     "execution_count": 15,
     "metadata": {},
     "output_type": "execute_result"
    }
   ],
   "source": [
    "q='''\n",
    "select * from outcomes\n",
    "LIMIT 3\n",
    "'''\n",
    "sql(q)"
   ]
  },
  {
   "cell_type": "code",
   "execution_count": 6,
   "metadata": {
    "collapsed": false
   },
   "outputs": [
    {
     "data": {
      "text/html": [
       "<div>\n",
       "<table border=\"1\" class=\"dataframe\">\n",
       "  <thead>\n",
       "    <tr style=\"text-align: right;\">\n",
       "      <th></th>\n",
       "      <th>class</th>\n",
       "      <th>type</th>\n",
       "      <th>country</th>\n",
       "      <th>numGuns</th>\n",
       "      <th>bore</th>\n",
       "      <th>displacement</th>\n",
       "    </tr>\n",
       "  </thead>\n",
       "  <tbody>\n",
       "    <tr>\n",
       "      <th>0</th>\n",
       "      <td>Bismarck</td>\n",
       "      <td>bb</td>\n",
       "      <td>Germany</td>\n",
       "      <td>8</td>\n",
       "      <td>15</td>\n",
       "      <td>42000</td>\n",
       "    </tr>\n",
       "    <tr>\n",
       "      <th>1</th>\n",
       "      <td>Iowa</td>\n",
       "      <td>bb</td>\n",
       "      <td>USA</td>\n",
       "      <td>9</td>\n",
       "      <td>16</td>\n",
       "      <td>46000</td>\n",
       "    </tr>\n",
       "    <tr>\n",
       "      <th>2</th>\n",
       "      <td>Kongo</td>\n",
       "      <td>bc</td>\n",
       "      <td>Japan</td>\n",
       "      <td>8</td>\n",
       "      <td>14</td>\n",
       "      <td>32000</td>\n",
       "    </tr>\n",
       "  </tbody>\n",
       "</table>\n",
       "</div>"
      ],
      "text/plain": [
       "      class type  country  numGuns  bore  displacement\n",
       "0  Bismarck   bb  Germany        8    15         42000\n",
       "1      Iowa   bb      USA        9    16         46000\n",
       "2     Kongo   bc    Japan        8    14         32000"
      ]
     },
     "execution_count": 6,
     "metadata": {},
     "output_type": "execute_result"
    }
   ],
   "source": [
    "q='''\n",
    "select * from classes\n",
    "LIMIT 3\n",
    "'''\n",
    "sql(q)"
   ]
  },
  {
   "cell_type": "markdown",
   "metadata": {},
   "source": [
    "**Exercise: 46 (Serge I: 2003-02-14) <br>\n",
    "For each ship that participated in the Battle of Guadalcanal, get its name, displacement, and the number of guns.**"
   ]
  },
  {
   "cell_type": "markdown",
   "metadata": {},
   "source": [
    "join ship columns to outcomes ship table\n",
    "join classes columns to combined table where class values match OR where \n",
    "class matches outcomes ship name\n",
    "\n",
    "some outcomes ships are not in ships table, so therefore there wont be a ships table class\n",
    "but these ships if lead ships will have the same value as the class value so they'll be\n",
    "in classes table"
   ]
  },
  {
   "cell_type": "code",
   "execution_count": 2,
   "metadata": {
    "collapsed": false
   },
   "outputs": [
    {
     "data": {
      "text/html": [
       "<div>\n",
       "<table border=\"1\" class=\"dataframe\">\n",
       "  <thead>\n",
       "    <tr style=\"text-align: right;\">\n",
       "      <th></th>\n",
       "      <th>ship</th>\n",
       "      <th>displacement</th>\n",
       "      <th>numGuns</th>\n",
       "    </tr>\n",
       "  </thead>\n",
       "  <tbody>\n",
       "    <tr>\n",
       "      <th>0</th>\n",
       "      <td>Kirishima</td>\n",
       "      <td>32000</td>\n",
       "      <td>8</td>\n",
       "    </tr>\n",
       "    <tr>\n",
       "      <th>1</th>\n",
       "      <td>South Dakota</td>\n",
       "      <td>37000</td>\n",
       "      <td>12</td>\n",
       "    </tr>\n",
       "    <tr>\n",
       "      <th>2</th>\n",
       "      <td>Washington</td>\n",
       "      <td>37000</td>\n",
       "      <td>12</td>\n",
       "    </tr>\n",
       "    <tr>\n",
       "      <th>3</th>\n",
       "      <td>California</td>\n",
       "      <td>32000</td>\n",
       "      <td>12</td>\n",
       "    </tr>\n",
       "  </tbody>\n",
       "</table>\n",
       "</div>"
      ],
      "text/plain": [
       "           ship  displacement  numGuns\n",
       "0     Kirishima         32000        8\n",
       "1  South Dakota         37000       12\n",
       "2    Washington         37000       12\n",
       "3    California         32000       12"
      ]
     },
     "execution_count": 2,
     "metadata": {},
     "output_type": "execute_result"
    }
   ],
   "source": [
    "q='''\n",
    "\n",
    "select ship, displacement, numGuns from outcomes\n",
    "left join ships on ships.name=outcomes.ship\n",
    "left join classes on classes.class=ships.class or classes.class=outcomes.ship\n",
    "where battle='Guadalcanal'\n",
    "\n",
    "'''\n",
    "sql(q)"
   ]
  },
  {
   "cell_type": "code",
   "execution_count": 13,
   "metadata": {
    "collapsed": false
   },
   "outputs": [
    {
     "data": {
      "text/html": [
       "<div>\n",
       "<table border=\"1\" class=\"dataframe\">\n",
       "  <thead>\n",
       "    <tr style=\"text-align: right;\">\n",
       "      <th></th>\n",
       "      <th>ship</th>\n",
       "      <th>displacement</th>\n",
       "      <th>numGuns</th>\n",
       "    </tr>\n",
       "  </thead>\n",
       "  <tbody>\n",
       "    <tr>\n",
       "      <th>0</th>\n",
       "      <td>Kirishima</td>\n",
       "      <td>32000</td>\n",
       "      <td>8</td>\n",
       "    </tr>\n",
       "    <tr>\n",
       "      <th>1</th>\n",
       "      <td>South Dakota</td>\n",
       "      <td>37000</td>\n",
       "      <td>12</td>\n",
       "    </tr>\n",
       "    <tr>\n",
       "      <th>2</th>\n",
       "      <td>Washington</td>\n",
       "      <td>37000</td>\n",
       "      <td>12</td>\n",
       "    </tr>\n",
       "    <tr>\n",
       "      <th>3</th>\n",
       "      <td>California</td>\n",
       "      <td>32000</td>\n",
       "      <td>12</td>\n",
       "    </tr>\n",
       "  </tbody>\n",
       "</table>\n",
       "</div>"
      ],
      "text/plain": [
       "           ship  displacement  numGuns\n",
       "0     Kirishima         32000        8\n",
       "1  South Dakota         37000       12\n",
       "2    Washington         37000       12\n",
       "3    California         32000       12"
      ]
     },
     "execution_count": 13,
     "metadata": {},
     "output_type": "execute_result"
    }
   ],
   "source": [
    "q='''\n",
    "select ship, displacement, numGuns from \n",
    "outcomes, ships, classes\n",
    "where outcomes.ship = ships.name\n",
    "and ships.class = classes.class\n",
    "and battle ='Guadalcanal'\n",
    "'''\n",
    "sql(q)"
   ]
  },
  {
   "cell_type": "code",
   "execution_count": 15,
   "metadata": {
    "collapsed": false
   },
   "outputs": [
    {
     "data": {
      "text/html": [
       "<div>\n",
       "<table border=\"1\" class=\"dataframe\">\n",
       "  <thead>\n",
       "    <tr style=\"text-align: right;\">\n",
       "      <th></th>\n",
       "      <th>ship</th>\n",
       "      <th>battle</th>\n",
       "      <th>result</th>\n",
       "    </tr>\n",
       "  </thead>\n",
       "  <tbody>\n",
       "    <tr>\n",
       "      <th>0</th>\n",
       "      <td>Bismarck</td>\n",
       "      <td>North Atlantic</td>\n",
       "      <td>sunk</td>\n",
       "    </tr>\n",
       "    <tr>\n",
       "      <th>1</th>\n",
       "      <td>California</td>\n",
       "      <td>Surigao Strait</td>\n",
       "      <td>OK</td>\n",
       "    </tr>\n",
       "  </tbody>\n",
       "</table>\n",
       "</div>"
      ],
      "text/plain": [
       "         ship          battle result\n",
       "0    Bismarck  North Atlantic   sunk\n",
       "1  California  Surigao Strait     OK"
      ]
     },
     "execution_count": 15,
     "metadata": {},
     "output_type": "execute_result"
    }
   ],
   "source": [
    "q='''\n",
    "select * from outcomes\n",
    "limit 2\n",
    "'''\n",
    "sql(q)"
   ]
  },
  {
   "cell_type": "code",
   "execution_count": 3,
   "metadata": {
    "collapsed": false
   },
   "outputs": [],
   "source": [
    "q='''\n",
    "select distinct ship, displacement, numguns\n",
    "from classes left join ships\n",
    "on classes.class=ships.class\n",
    "\n",
    "where battle='Guadalcanal'\n",
    "'''\n"
   ]
  },
  {
   "cell_type": "code",
   "execution_count": 4,
   "metadata": {
    "collapsed": false
   },
   "outputs": [],
   "source": [
    "q='''\n",
    "select distinct ship, displacement, numguns\n",
    "from Classes left join Ships\n",
    "on classes.class=ships.class\n",
    "right join Outcomes\n",
    "on Classes.class=ship\n",
    "or ships.name=ship\n",
    "where battle='Guadalcanal';\n",
    "'''\n"
   ]
  },
  {
   "cell_type": "code",
   "execution_count": 30,
   "metadata": {
    "collapsed": false
   },
   "outputs": [
    {
     "ename": "SyntaxError",
     "evalue": "invalid syntax (<ipython-input-30-8b20afd84e45>, line 1)",
     "output_type": "error",
     "traceback": [
      "\u001b[0;36m  File \u001b[0;32m\"<ipython-input-30-8b20afd84e45>\"\u001b[0;36m, line \u001b[0;32m1\u001b[0m\n\u001b[0;31m    select distinct ship, displacement, numguns\u001b[0m\n\u001b[0m                  ^\u001b[0m\n\u001b[0;31mSyntaxError\u001b[0m\u001b[0;31m:\u001b[0m invalid syntax\n"
     ]
    }
   ],
   "source": [
    "select distinct ship, displacement, numguns\n",
    "from Classes left join Ships\n",
    "on classes.class=ships.class\n",
    "right join Outcomes\n",
    "on Classes.class=ship\n",
    "or ships.name=ship\n",
    "where battle='Guadalcanal';"
   ]
  },
  {
   "cell_type": "code",
   "execution_count": 5,
   "metadata": {
    "collapsed": false
   },
   "outputs": [],
   "source": [
    "q='''\n",
    "select name, displacement, numGuns \n",
    "from classes left join ships on ships.class = classes.class\n",
    "right join outcomes on outcomes.ship=ships.name\n",
    "\n",
    "\n",
    "\n",
    "'''\n"
   ]
  },
  {
   "cell_type": "code",
   "execution_count": 6,
   "metadata": {
    "collapsed": false
   },
   "outputs": [],
   "source": [
    "q='''\n",
    "select outcomes.ship, classes.displacement, classes.numGuns from outcomes\n",
    "join ships on outcomes.ship = ships.name\n",
    "join ships on ships.class = classes.class\n",
    "where battle ='Guadalcanal'\n",
    "\n",
    "'''\n"
   ]
  },
  {
   "cell_type": "markdown",
   "metadata": {},
   "source": [
    "**Exercise: 45 (Serge I: 2002-12-04) <br>\n",
    "Find all ship names consisting of three or more words (e.g., King George V).\n",
    "Consider the words in ship names to be separated by single spaces, and the ship names to have no leading or trailing spaces.**"
   ]
  },
  {
   "cell_type": "code",
   "execution_count": 27,
   "metadata": {
    "collapsed": false
   },
   "outputs": [
    {
     "data": {
      "text/html": [
       "<div>\n",
       "<table border=\"1\" class=\"dataframe\">\n",
       "  <thead>\n",
       "    <tr style=\"text-align: right;\">\n",
       "      <th></th>\n",
       "      <th>name</th>\n",
       "    </tr>\n",
       "  </thead>\n",
       "  <tbody>\n",
       "    <tr>\n",
       "      <th>0</th>\n",
       "      <td>Duke of York</td>\n",
       "    </tr>\n",
       "    <tr>\n",
       "      <th>1</th>\n",
       "      <td>King George V</td>\n",
       "    </tr>\n",
       "    <tr>\n",
       "      <th>2</th>\n",
       "      <td>Prince of Wales</td>\n",
       "    </tr>\n",
       "  </tbody>\n",
       "</table>\n",
       "</div>"
      ],
      "text/plain": [
       "              name\n",
       "0     Duke of York\n",
       "1    King George V\n",
       "2  Prince of Wales"
      ]
     },
     "execution_count": 27,
     "metadata": {},
     "output_type": "execute_result"
    }
   ],
   "source": [
    "# '%_ _% _%'  the underscore means we need at least one letter between each space.  \n",
    "# without the _, we could have 0 characters between each space, since % can be 0\n",
    "q='''\n",
    "select RTRIM(LTRIM(name)) as name from ships\n",
    "where name like '%_ _% _%' \n",
    "union\n",
    "select RTRIM(LTRIM(ship)) as name from outcomes\n",
    "where ship like '%_ _% _%'\n",
    "\n",
    "'''\n",
    "sql(q)"
   ]
  },
  {
   "cell_type": "markdown",
   "metadata": {},
   "source": [
    "**Exercise: 44 (Serge I: 2002-12-04) <br>\n",
    "Find all ship names beginning with the letter R.**"
   ]
  },
  {
   "cell_type": "code",
   "execution_count": 31,
   "metadata": {
    "collapsed": false
   },
   "outputs": [
    {
     "data": {
      "text/html": [
       "<div>\n",
       "<table border=\"1\" class=\"dataframe\">\n",
       "  <thead>\n",
       "    <tr style=\"text-align: right;\">\n",
       "      <th></th>\n",
       "      <th>name</th>\n",
       "    </tr>\n",
       "  </thead>\n",
       "  <tbody>\n",
       "    <tr>\n",
       "      <th>0</th>\n",
       "      <td>Ramillies</td>\n",
       "    </tr>\n",
       "    <tr>\n",
       "      <th>1</th>\n",
       "      <td>Renown</td>\n",
       "    </tr>\n",
       "    <tr>\n",
       "      <th>2</th>\n",
       "      <td>Repulse</td>\n",
       "    </tr>\n",
       "    <tr>\n",
       "      <th>3</th>\n",
       "      <td>Resolution</td>\n",
       "    </tr>\n",
       "    <tr>\n",
       "      <th>4</th>\n",
       "      <td>Revenge</td>\n",
       "    </tr>\n",
       "    <tr>\n",
       "      <th>5</th>\n",
       "      <td>Rodney</td>\n",
       "    </tr>\n",
       "    <tr>\n",
       "      <th>6</th>\n",
       "      <td>Royal Oak</td>\n",
       "    </tr>\n",
       "    <tr>\n",
       "      <th>7</th>\n",
       "      <td>Royal Sovereign</td>\n",
       "    </tr>\n",
       "  </tbody>\n",
       "</table>\n",
       "</div>"
      ],
      "text/plain": [
       "              name\n",
       "0        Ramillies\n",
       "1           Renown\n",
       "2          Repulse\n",
       "3       Resolution\n",
       "4          Revenge\n",
       "5           Rodney\n",
       "6        Royal Oak\n",
       "7  Royal Sovereign"
      ]
     },
     "execution_count": 31,
     "metadata": {},
     "output_type": "execute_result"
    }
   ],
   "source": [
    "q='''\n",
    "select name from ships\n",
    "where name like 'R%'\n",
    "union\n",
    "select ship from outcomes\n",
    "where ship like 'R%'\n",
    "'''\n",
    "sql(q)"
   ]
  },
  {
   "cell_type": "markdown",
   "metadata": {},
   "source": [
    "**Exercise: 43 (qwrqwr: 2011-10-28) <br>\n",
    "Get the battles that occurred in years when no ships were launched into water.**"
   ]
  },
  {
   "cell_type": "code",
   "execution_count": 42,
   "metadata": {
    "collapsed": false
   },
   "outputs": [
    {
     "data": {
      "text/html": [
       "<div>\n",
       "<table border=\"1\" class=\"dataframe\">\n",
       "  <thead>\n",
       "    <tr style=\"text-align: right;\">\n",
       "      <th></th>\n",
       "      <th>battle_years.name</th>\n",
       "    </tr>\n",
       "  </thead>\n",
       "  <tbody>\n",
       "    <tr>\n",
       "      <th>0</th>\n",
       "      <td>#Cuba62a</td>\n",
       "    </tr>\n",
       "    <tr>\n",
       "      <th>1</th>\n",
       "      <td>#Cuba62b</td>\n",
       "    </tr>\n",
       "  </tbody>\n",
       "</table>\n",
       "</div>"
      ],
      "text/plain": [
       "  battle_years.name\n",
       "0          #Cuba62a\n",
       "1          #Cuba62b"
      ]
     },
     "execution_count": 42,
     "metadata": {},
     "output_type": "execute_result"
    }
   ],
   "source": [
    "#http://sqlite.org/lang_datefunc.html\n",
    "#in mysql, just use year(date)\n",
    "q='''\n",
    "with battle_years as (\n",
    "select name, strftime('%Y', date) as year from battles\n",
    ")\n",
    "select battle_years.name from battle_years\n",
    "left join ships on ships.launched=battle_years.year\n",
    "where launched is null\n",
    "'''\n",
    "sql(q)"
   ]
  },
  {
   "cell_type": "code",
   "execution_count": 12,
   "metadata": {
    "collapsed": false
   },
   "outputs": [
    {
     "data": {
      "text/html": [
       "<div>\n",
       "<table border=\"1\" class=\"dataframe\">\n",
       "  <thead>\n",
       "    <tr style=\"text-align: right;\">\n",
       "      <th></th>\n",
       "      <th>battle_years.name</th>\n",
       "    </tr>\n",
       "  </thead>\n",
       "  <tbody>\n",
       "    <tr>\n",
       "      <th>0</th>\n",
       "      <td>#Cuba62a</td>\n",
       "    </tr>\n",
       "    <tr>\n",
       "      <th>1</th>\n",
       "      <td>#Cuba62b</td>\n",
       "    </tr>\n",
       "  </tbody>\n",
       "</table>\n",
       "</div>"
      ],
      "text/plain": [
       "  battle_years.name\n",
       "0          #Cuba62a\n",
       "1          #Cuba62b"
      ]
     },
     "execution_count": 12,
     "metadata": {},
     "output_type": "execute_result"
    }
   ],
   "source": [
    "q='''\n",
    "with battle_years as (\n",
    "select name, strftime('%Y', date) as year from battles\n",
    ")\n",
    "select battle_years.name from battle_years\n",
    "where year not in (select launched from ships where launched is not null)\n",
    "'''\n",
    "sql(q)"
   ]
  },
  {
   "cell_type": "markdown",
   "metadata": {},
   "source": [
    "** Exercise: 42 (Serge I: 2002-11-05) <br>\n",
    "Find the names of ships sunk at battles, along with the names of the corresponding battles. **"
   ]
  },
  {
   "cell_type": "code",
   "execution_count": 7,
   "metadata": {
    "collapsed": false
   },
   "outputs": [
    {
     "data": {
      "text/html": [
       "<div>\n",
       "<table border=\"1\" class=\"dataframe\">\n",
       "  <thead>\n",
       "    <tr style=\"text-align: right;\">\n",
       "      <th></th>\n",
       "      <th>ship</th>\n",
       "      <th>battle</th>\n",
       "    </tr>\n",
       "  </thead>\n",
       "  <tbody>\n",
       "    <tr>\n",
       "      <th>0</th>\n",
       "      <td>Bismarck</td>\n",
       "      <td>North Atlantic</td>\n",
       "    </tr>\n",
       "    <tr>\n",
       "      <th>1</th>\n",
       "      <td>Fuso</td>\n",
       "      <td>Surigao Strait</td>\n",
       "    </tr>\n",
       "    <tr>\n",
       "      <th>2</th>\n",
       "      <td>Hood</td>\n",
       "      <td>North Atlantic</td>\n",
       "    </tr>\n",
       "    <tr>\n",
       "      <th>3</th>\n",
       "      <td>Kirishima</td>\n",
       "      <td>Guadalcanal</td>\n",
       "    </tr>\n",
       "    <tr>\n",
       "      <th>4</th>\n",
       "      <td>Schamhorst</td>\n",
       "      <td>North Cape</td>\n",
       "    </tr>\n",
       "    <tr>\n",
       "      <th>5</th>\n",
       "      <td>Yamashiro</td>\n",
       "      <td>Surigao Strait</td>\n",
       "    </tr>\n",
       "  </tbody>\n",
       "</table>\n",
       "</div>"
      ],
      "text/plain": [
       "         ship          battle\n",
       "0    Bismarck  North Atlantic\n",
       "1        Fuso  Surigao Strait\n",
       "2        Hood  North Atlantic\n",
       "3   Kirishima     Guadalcanal\n",
       "4  Schamhorst      North Cape\n",
       "5   Yamashiro  Surigao Strait"
      ]
     },
     "execution_count": 7,
     "metadata": {},
     "output_type": "execute_result"
    }
   ],
   "source": [
    "q='''\n",
    "select ship,battle from outcomes where result = 'sunk'\n",
    "'''\n",
    "sql(q)"
   ]
  },
  {
   "cell_type": "markdown",
   "metadata": {},
   "source": [
    "**Exercise: 40 (Serge I: 2002-11-05) <br>\n",
    "For the ships in the Ships table that have at least 10 guns, get the class, name, and country.**\n"
   ]
  },
  {
   "cell_type": "code",
   "execution_count": 14,
   "metadata": {
    "collapsed": false
   },
   "outputs": [
    {
     "data": {
      "text/html": [
       "<div>\n",
       "<table border=\"1\" class=\"dataframe\">\n",
       "  <thead>\n",
       "    <tr style=\"text-align: right;\">\n",
       "      <th></th>\n",
       "      <th>name</th>\n",
       "      <th>class</th>\n",
       "      <th>country</th>\n",
       "    </tr>\n",
       "  </thead>\n",
       "  <tbody>\n",
       "    <tr>\n",
       "      <th>0</th>\n",
       "      <td>North Carolina</td>\n",
       "      <td>North Carolina</td>\n",
       "      <td>USA</td>\n",
       "    </tr>\n",
       "    <tr>\n",
       "      <th>1</th>\n",
       "      <td>South Dakota</td>\n",
       "      <td>North Carolina</td>\n",
       "      <td>USA</td>\n",
       "    </tr>\n",
       "    <tr>\n",
       "      <th>2</th>\n",
       "      <td>Washington</td>\n",
       "      <td>North Carolina</td>\n",
       "      <td>USA</td>\n",
       "    </tr>\n",
       "    <tr>\n",
       "      <th>3</th>\n",
       "      <td>California</td>\n",
       "      <td>Tennessee</td>\n",
       "      <td>USA</td>\n",
       "    </tr>\n",
       "    <tr>\n",
       "      <th>4</th>\n",
       "      <td>Tennessee</td>\n",
       "      <td>Tennessee</td>\n",
       "      <td>USA</td>\n",
       "    </tr>\n",
       "  </tbody>\n",
       "</table>\n",
       "</div>"
      ],
      "text/plain": [
       "             name           class country\n",
       "0  North Carolina  North Carolina     USA\n",
       "1    South Dakota  North Carolina     USA\n",
       "2      Washington  North Carolina     USA\n",
       "3      California       Tennessee     USA\n",
       "4       Tennessee       Tennessee     USA"
      ]
     },
     "execution_count": 14,
     "metadata": {},
     "output_type": "execute_result"
    }
   ],
   "source": [
    "q='''\n",
    "select ships.name, ships.class, classes.country from ships \n",
    "join classes on classes.class = ships.class\n",
    "where numGuns>=10\n",
    "'''\n",
    "sql(q)"
   ]
  },
  {
   "cell_type": "markdown",
   "metadata": {},
   "source": [
    "**Exercise: 39 (Serge I: 2003-02-14) <br>\n",
    "Find the ships that \"survived for future battles\"; that is, after being damaged in a battle, they participated in another one, which occurred later.** "
   ]
  },
  {
   "cell_type": "markdown",
   "metadata": {},
   "source": [
    "We need to get ships from the outcomes table such that:\n",
    "ship had a battle that damaged it on an earlier date\n",
    "ship had a battle on a later date\n",
    "\n",
    "select ships that were damaged on a date\n",
    "and then, select these same ships but only those with dates>first date"
   ]
  },
  {
   "cell_type": "code",
   "execution_count": 33,
   "metadata": {
    "collapsed": false
   },
   "outputs": [
    {
     "data": {
      "text/html": [
       "<div>\n",
       "<table border=\"1\" class=\"dataframe\">\n",
       "  <thead>\n",
       "    <tr style=\"text-align: right;\">\n",
       "      <th></th>\n",
       "      <th>o2.ship</th>\n",
       "    </tr>\n",
       "  </thead>\n",
       "  <tbody>\n",
       "    <tr>\n",
       "      <th>0</th>\n",
       "      <td>California</td>\n",
       "    </tr>\n",
       "  </tbody>\n",
       "</table>\n",
       "</div>"
      ],
      "text/plain": [
       "      o2.ship\n",
       "0  California"
      ]
     },
     "execution_count": 33,
     "metadata": {},
     "output_type": "execute_result"
    }
   ],
   "source": [
    "q='''\n",
    "select distinct o2.ship from\n",
    "(select * from outcomes o join battles on battles.name = o.battle where result = 'damaged') as o1\n",
    "join (select * from outcomes o join battles on battles.name = o.battle ) as o2\n",
    "on o1.ship=o2.ship \n",
    "where o2.date > o1.date\n",
    "\n",
    "'''\n",
    "sql(q)"
   ]
  },
  {
   "cell_type": "code",
   "execution_count": 37,
   "metadata": {
    "collapsed": false
   },
   "outputs": [
    {
     "data": {
      "text/html": [
       "<div>\n",
       "<table border=\"1\" class=\"dataframe\">\n",
       "  <thead>\n",
       "    <tr style=\"text-align: right;\">\n",
       "      <th></th>\n",
       "      <th>o2.ship</th>\n",
       "    </tr>\n",
       "  </thead>\n",
       "  <tbody>\n",
       "    <tr>\n",
       "      <th>0</th>\n",
       "      <td>California</td>\n",
       "    </tr>\n",
       "  </tbody>\n",
       "</table>\n",
       "</div>"
      ],
      "text/plain": [
       "      o2.ship\n",
       "0  California"
      ]
     },
     "execution_count": 37,
     "metadata": {},
     "output_type": "execute_result"
    }
   ],
   "source": [
    "q='''\n",
    "select distinct o2.ship from\n",
    "(select * from outcomes o join battles on battles.name = o.battle where result = 'damaged') as o1, \n",
    "(select * from outcomes o join battles on battles.name = o.battle ) as o2\n",
    "where o1.ship = o2.ship \n",
    "and   o2.date > o1.date\n",
    "'''\n",
    "sql(q)"
   ]
  },
  {
   "cell_type": "markdown",
   "metadata": {},
   "source": [
    "**Exercise: 38 (Serge I: 2003-02-19) <br>\n",
    "Find countries that ever had classes of both battleships (‘bb’) and cruisers (‘bc’).**"
   ]
  },
  {
   "cell_type": "code",
   "execution_count": 4,
   "metadata": {
    "collapsed": false
   },
   "outputs": [
    {
     "data": {
      "text/html": [
       "<div>\n",
       "<table border=\"1\" class=\"dataframe\">\n",
       "  <thead>\n",
       "    <tr style=\"text-align: right;\">\n",
       "      <th></th>\n",
       "      <th>country</th>\n",
       "    </tr>\n",
       "  </thead>\n",
       "  <tbody>\n",
       "    <tr>\n",
       "      <th>0</th>\n",
       "      <td>Gt.Britain</td>\n",
       "    </tr>\n",
       "    <tr>\n",
       "      <th>1</th>\n",
       "      <td>Japan</td>\n",
       "    </tr>\n",
       "  </tbody>\n",
       "</table>\n",
       "</div>"
      ],
      "text/plain": [
       "      country\n",
       "0  Gt.Britain\n",
       "1       Japan"
      ]
     },
     "execution_count": 4,
     "metadata": {},
     "output_type": "execute_result"
    }
   ],
   "source": [
    "#place except where intersect is so that rows of first dataset are returned except for rows of first dataset\n",
    "#that are also in the second dataset\n",
    "q='''\n",
    "select country from classes\n",
    "where type='bb'\n",
    "group by country\n",
    "intersect \n",
    "select country from classes\n",
    "where type='bc'\n",
    "group by country\n",
    "\n",
    "'''\n",
    "sql(q)"
   ]
  },
  {
   "cell_type": "markdown",
   "metadata": {},
   "source": [
    "**Exercise: 37 (Serge I: 2003-02-17) <br>\n",
    "Find classes for which only one ship exists in the database (including the Outcomes table).**"
   ]
  },
  {
   "cell_type": "code",
   "execution_count": null,
   "metadata": {
    "collapsed": true
   },
   "outputs": [],
   "source": [
    "#can't seem to use table aliases in select statement in unioned tables\n",
    "# you can't use aliases in the where clause period, anyway"
   ]
  },
  {
   "cell_type": "code",
   "execution_count": 30,
   "metadata": {
    "collapsed": false,
    "scrolled": true
   },
   "outputs": [
    {
     "data": {
      "text/html": [
       "<div>\n",
       "<table border=\"1\" class=\"dataframe\">\n",
       "  <thead>\n",
       "    <tr style=\"text-align: right;\">\n",
       "      <th></th>\n",
       "      <th>class</th>\n",
       "    </tr>\n",
       "  </thead>\n",
       "  <tbody>\n",
       "    <tr>\n",
       "      <th>0</th>\n",
       "      <td>Bismarck</td>\n",
       "    </tr>\n",
       "  </tbody>\n",
       "</table>\n",
       "</div>"
      ],
      "text/plain": [
       "      class\n",
       "0  Bismarck"
      ]
     },
     "execution_count": 30,
     "metadata": {},
     "output_type": "execute_result"
    }
   ],
   "source": [
    "# union does not include duplicate rows, while union all does include them.\n",
    "#duplicates from outcomes table won't be included\n",
    "q='''\n",
    "with temp as (\n",
    "select class, name from ships\n",
    "union\n",
    "select ship, ship from outcomes \n",
    "where ship in (select class from classes) \n",
    ") \n",
    "select class from temp\n",
    "group by class\n",
    "having count(class)=1\n",
    " \n",
    "'''\n",
    "sql(q)"
   ]
  },
  {
   "cell_type": "code",
   "execution_count": 32,
   "metadata": {
    "collapsed": false
   },
   "outputs": [
    {
     "data": {
      "text/html": [
       "<div>\n",
       "<table border=\"1\" class=\"dataframe\">\n",
       "  <thead>\n",
       "    <tr style=\"text-align: right;\">\n",
       "      <th></th>\n",
       "      <th>class</th>\n",
       "    </tr>\n",
       "  </thead>\n",
       "  <tbody>\n",
       "    <tr>\n",
       "      <th>0</th>\n",
       "      <td>Bismarck</td>\n",
       "    </tr>\n",
       "  </tbody>\n",
       "</table>\n",
       "</div>"
      ],
      "text/plain": [
       "      class\n",
       "0  Bismarck"
      ]
     },
     "execution_count": 32,
     "metadata": {},
     "output_type": "execute_result"
    }
   ],
   "source": [
    "q='''\n",
    "select s.class from classes c inner join (\n",
    "select name, class from ships\n",
    "Union\n",
    "select o.ship, c2.class from classes c2 inner join outcomes o on c2.class=o.ship \n",
    ") s on c.class=s.class\n",
    "group by s.class having count(s.class)=1\n",
    "'''\n",
    "sql(q)"
   ]
  },
  {
   "cell_type": "markdown",
   "metadata": {
    "collapsed": true
   },
   "source": [
    "**Exercise: 36 (Serge I: 2003-02-17) <br>\n",
    "List the names of lead ships in the database (including the Outcomes table).**"
   ]
  },
  {
   "cell_type": "code",
   "execution_count": 30,
   "metadata": {
    "collapsed": false
   },
   "outputs": [
    {
     "data": {
      "text/html": [
       "<div>\n",
       "<table border=\"1\" class=\"dataframe\">\n",
       "  <thead>\n",
       "    <tr style=\"text-align: right;\">\n",
       "      <th></th>\n",
       "      <th>name</th>\n",
       "    </tr>\n",
       "  </thead>\n",
       "  <tbody>\n",
       "    <tr>\n",
       "      <th>0</th>\n",
       "      <td>Bismarck</td>\n",
       "    </tr>\n",
       "    <tr>\n",
       "      <th>1</th>\n",
       "      <td>Iowa</td>\n",
       "    </tr>\n",
       "    <tr>\n",
       "      <th>2</th>\n",
       "      <td>Kongo</td>\n",
       "    </tr>\n",
       "    <tr>\n",
       "      <th>3</th>\n",
       "      <td>North Carolina</td>\n",
       "    </tr>\n",
       "    <tr>\n",
       "      <th>4</th>\n",
       "      <td>Renown</td>\n",
       "    </tr>\n",
       "    <tr>\n",
       "      <th>5</th>\n",
       "      <td>Revenge</td>\n",
       "    </tr>\n",
       "    <tr>\n",
       "      <th>6</th>\n",
       "      <td>Tennessee</td>\n",
       "    </tr>\n",
       "    <tr>\n",
       "      <th>7</th>\n",
       "      <td>Yamato</td>\n",
       "    </tr>\n",
       "  </tbody>\n",
       "</table>\n",
       "</div>"
      ],
      "text/plain": [
       "             name\n",
       "0        Bismarck\n",
       "1            Iowa\n",
       "2           Kongo\n",
       "3  North Carolina\n",
       "4          Renown\n",
       "5         Revenge\n",
       "6       Tennessee\n",
       "7          Yamato"
      ]
     },
     "execution_count": 30,
     "metadata": {},
     "output_type": "execute_result"
    }
   ],
   "source": [
    "q='''\n",
    "select name from ships join classes on classes.class = ships.name\n",
    "union\n",
    "select ship from outcomes join classes on classes.class = outcomes.ship\n",
    "'''\n",
    "sql(q)"
   ]
  },
  {
   "cell_type": "markdown",
   "metadata": {},
   "source": [
    "**Exercise: 34 (Serge I: 2002-11-04)<br>\n",
    "In accordance with the Washington Naval Treaty concluded in the beginning of 1922, it was prohibited to build battle ships with a displacement of more than 35 thousand tons. \n",
    "Get the ships violating this treaty (only consider ships for which the year of launch is known). \n",
    "List the names of the ships.**\n"
   ]
  },
  {
   "cell_type": "code",
   "execution_count": 12,
   "metadata": {
    "collapsed": false
   },
   "outputs": [
    {
     "data": {
      "text/html": [
       "<div>\n",
       "<table border=\"1\" class=\"dataframe\">\n",
       "  <thead>\n",
       "    <tr style=\"text-align: right;\">\n",
       "      <th></th>\n",
       "      <th>name</th>\n",
       "    </tr>\n",
       "  </thead>\n",
       "  <tbody>\n",
       "    <tr>\n",
       "      <th>0</th>\n",
       "      <td>Iowa</td>\n",
       "    </tr>\n",
       "    <tr>\n",
       "      <th>1</th>\n",
       "      <td>Missouri</td>\n",
       "    </tr>\n",
       "    <tr>\n",
       "      <th>2</th>\n",
       "      <td>New Jersey</td>\n",
       "    </tr>\n",
       "    <tr>\n",
       "      <th>3</th>\n",
       "      <td>Wisconsin</td>\n",
       "    </tr>\n",
       "    <tr>\n",
       "      <th>4</th>\n",
       "      <td>North Carolina</td>\n",
       "    </tr>\n",
       "    <tr>\n",
       "      <th>5</th>\n",
       "      <td>South Dakota</td>\n",
       "    </tr>\n",
       "    <tr>\n",
       "      <th>6</th>\n",
       "      <td>Washington</td>\n",
       "    </tr>\n",
       "    <tr>\n",
       "      <th>7</th>\n",
       "      <td>Musashi</td>\n",
       "    </tr>\n",
       "    <tr>\n",
       "      <th>8</th>\n",
       "      <td>Yamato</td>\n",
       "    </tr>\n",
       "  </tbody>\n",
       "</table>\n",
       "</div>"
      ],
      "text/plain": [
       "             name\n",
       "0            Iowa\n",
       "1        Missouri\n",
       "2      New Jersey\n",
       "3       Wisconsin\n",
       "4  North Carolina\n",
       "5    South Dakota\n",
       "6      Washington\n",
       "7         Musashi\n",
       "8          Yamato"
      ]
     },
     "execution_count": 12,
     "metadata": {},
     "output_type": "execute_result"
    }
   ],
   "source": [
    "q='''\n",
    "select name from ships s join classes c on c.class = s.class \n",
    "where c.type = 'bb' and c.displacement >35000 and launched >=1922\n",
    "'''\n",
    "sql(q)"
   ]
  },
  {
   "cell_type": "markdown",
   "metadata": {},
   "source": [
    "**Exercise: 33 (Serge I: 2002-11-02) <br>\n",
    "Get the ships sunk in the North Atlantic battle. <br>\n",
    "Result set: ship.**"
   ]
  },
  {
   "cell_type": "code",
   "execution_count": 3,
   "metadata": {
    "collapsed": false
   },
   "outputs": [
    {
     "data": {
      "text/html": [
       "<div>\n",
       "<table border=\"1\" class=\"dataframe\">\n",
       "  <thead>\n",
       "    <tr style=\"text-align: right;\">\n",
       "      <th></th>\n",
       "      <th>ship</th>\n",
       "    </tr>\n",
       "  </thead>\n",
       "  <tbody>\n",
       "    <tr>\n",
       "      <th>0</th>\n",
       "      <td>Bismarck</td>\n",
       "    </tr>\n",
       "    <tr>\n",
       "      <th>1</th>\n",
       "      <td>Hood</td>\n",
       "    </tr>\n",
       "  </tbody>\n",
       "</table>\n",
       "</div>"
      ],
      "text/plain": [
       "       ship\n",
       "0  Bismarck\n",
       "1      Hood"
      ]
     },
     "execution_count": 3,
     "metadata": {},
     "output_type": "execute_result"
    }
   ],
   "source": [
    "q='''\n",
    "select ship from outcomes where battle = 'North Atlantic' and result = 'sunk'\n",
    "'''\n",
    "sql(q)"
   ]
  },
  {
   "cell_type": "markdown",
   "metadata": {},
   "source": [
    "**Exercise: 32 (Serge I: 2003-02-17) <br>\n",
    "One of the characteristics of a ship is one-half the cube of the calibre of its main guns (mw). <br>\n",
    "Determine the average ship mw with an accuracy of two decimal places for each country having ships in the database.**"
   ]
  },
  {
   "cell_type": "markdown",
   "metadata": {},
   "source": [
    "select country, name ship_name, round(avg((.5*bore*bore*bore)),2) as mw from classes\n",
    "left join ships on ships.class=classes.class \n",
    "group by country, ship_name\n",
    "union\n",
    "\n",
    "(classes 'class' = ships 'class') and (outcomes 'ship' = ships 'name')\n",
    "where the name of a ship is sometimes the name of a class, so we can include all outcome ships that were the first of their kind built, since their name = class name.  We don't want to include outcome ships whose name=class is already in the ships table though, or else we'd be double counting that ship."
   ]
  },
  {
   "cell_type": "code",
   "execution_count": 28,
   "metadata": {
    "collapsed": false
   },
   "outputs": [
    {
     "data": {
      "text/html": [
       "<div>\n",
       "<table border=\"1\" class=\"dataframe\">\n",
       "  <thead>\n",
       "    <tr style=\"text-align: right;\">\n",
       "      <th></th>\n",
       "      <th>country</th>\n",
       "      <th>round(avg(.5*(bore*bore*bore)),2)</th>\n",
       "    </tr>\n",
       "  </thead>\n",
       "  <tbody>\n",
       "    <tr>\n",
       "      <th>0</th>\n",
       "      <td>Germany</td>\n",
       "      <td>1687.50</td>\n",
       "    </tr>\n",
       "    <tr>\n",
       "      <th>1</th>\n",
       "      <td>Gt.Britain</td>\n",
       "      <td>1687.50</td>\n",
       "    </tr>\n",
       "    <tr>\n",
       "      <th>2</th>\n",
       "      <td>Japan</td>\n",
       "      <td>1886.67</td>\n",
       "    </tr>\n",
       "    <tr>\n",
       "      <th>3</th>\n",
       "      <td>USA</td>\n",
       "      <td>1897.78</td>\n",
       "    </tr>\n",
       "  </tbody>\n",
       "</table>\n",
       "</div>"
      ],
      "text/plain": [
       "      country  round(avg(.5*(bore*bore*bore)),2)\n",
       "0     Germany                            1687.50\n",
       "1  Gt.Britain                            1687.50\n",
       "2       Japan                            1886.67\n",
       "3         USA                            1897.78"
      ]
     },
     "execution_count": 28,
     "metadata": {},
     "output_type": "execute_result"
    }
   ],
   "source": [
    "#sqlite does not have the function power(var,3), which raises var to the 3rd power\n",
    "#sqlite also must use round() instead of cast(var as decimal(10,2))\n",
    "q='''\n",
    "\n",
    "with temp as (\n",
    "select country, ships.name, bore from classes c join ships on ships.class=c.class\n",
    "union \n",
    "select country, ship, bore from classes c join outcomes o on o.ship=c.class\n",
    "and o.ship not in (select name from ships)    )\n",
    "select country, round(avg(.5*(bore*bore*bore)),2) from temp\n",
    "group by country\n",
    "'''\n",
    "sql(q)"
   ]
  },
  {
   "cell_type": "code",
   "execution_count": 32,
   "metadata": {
    "collapsed": false
   },
   "outputs": [
    {
     "data": {
      "text/html": [
       "<div>\n",
       "<table border=\"1\" class=\"dataframe\">\n",
       "  <thead>\n",
       "    <tr style=\"text-align: right;\">\n",
       "      <th></th>\n",
       "      <th>country</th>\n",
       "      <th>class</th>\n",
       "      <th>bore</th>\n",
       "    </tr>\n",
       "  </thead>\n",
       "  <tbody>\n",
       "    <tr>\n",
       "      <th>0</th>\n",
       "      <td>Germany</td>\n",
       "      <td>Bismarck</td>\n",
       "      <td>15</td>\n",
       "    </tr>\n",
       "    <tr>\n",
       "      <th>1</th>\n",
       "      <td>Gt.Britain</td>\n",
       "      <td>Renown</td>\n",
       "      <td>15</td>\n",
       "    </tr>\n",
       "    <tr>\n",
       "      <th>2</th>\n",
       "      <td>Gt.Britain</td>\n",
       "      <td>Revenge</td>\n",
       "      <td>15</td>\n",
       "    </tr>\n",
       "    <tr>\n",
       "      <th>3</th>\n",
       "      <td>Japan</td>\n",
       "      <td>Kongo</td>\n",
       "      <td>14</td>\n",
       "    </tr>\n",
       "    <tr>\n",
       "      <th>4</th>\n",
       "      <td>Japan</td>\n",
       "      <td>Yamato</td>\n",
       "      <td>18</td>\n",
       "    </tr>\n",
       "    <tr>\n",
       "      <th>5</th>\n",
       "      <td>USA</td>\n",
       "      <td>Iowa</td>\n",
       "      <td>16</td>\n",
       "    </tr>\n",
       "    <tr>\n",
       "      <th>6</th>\n",
       "      <td>USA</td>\n",
       "      <td>North Carolina</td>\n",
       "      <td>16</td>\n",
       "    </tr>\n",
       "    <tr>\n",
       "      <th>7</th>\n",
       "      <td>USA</td>\n",
       "      <td>Tennessee</td>\n",
       "      <td>14</td>\n",
       "    </tr>\n",
       "  </tbody>\n",
       "</table>\n",
       "</div>"
      ],
      "text/plain": [
       "      country           class  bore\n",
       "0     Germany        Bismarck    15\n",
       "1  Gt.Britain          Renown    15\n",
       "2  Gt.Britain         Revenge    15\n",
       "3       Japan           Kongo    14\n",
       "4       Japan          Yamato    18\n",
       "5         USA            Iowa    16\n",
       "6         USA  North Carolina    16\n",
       "7         USA       Tennessee    14"
      ]
     },
     "execution_count": 32,
     "metadata": {},
     "output_type": "execute_result"
    }
   ],
   "source": [
    "q='''\n",
    "select country, c.class, bore from classes c join ships on ships.class=c.class\n",
    "union \n",
    "select country, ship, bore from classes c join outcomes o on o.ship=c.class\n",
    "and o.ship not in (select name from ships)  \n",
    "'''\n",
    "sql(q)"
   ]
  },
  {
   "cell_type": "code",
   "execution_count": 31,
   "metadata": {
    "collapsed": true
   },
   "outputs": [
    {
     "data": {
      "text/html": [
       "<div>\n",
       "<table border=\"1\" class=\"dataframe\">\n",
       "  <thead>\n",
       "    <tr style=\"text-align: right;\">\n",
       "      <th></th>\n",
       "      <th>country</th>\n",
       "      <th>name</th>\n",
       "      <th>bore</th>\n",
       "    </tr>\n",
       "  </thead>\n",
       "  <tbody>\n",
       "    <tr>\n",
       "      <th>0</th>\n",
       "      <td>Germany</td>\n",
       "      <td>Bismarck</td>\n",
       "      <td>15</td>\n",
       "    </tr>\n",
       "    <tr>\n",
       "      <th>1</th>\n",
       "      <td>Gt.Britain</td>\n",
       "      <td>Ramillies</td>\n",
       "      <td>15</td>\n",
       "    </tr>\n",
       "    <tr>\n",
       "      <th>2</th>\n",
       "      <td>Gt.Britain</td>\n",
       "      <td>Renown</td>\n",
       "      <td>15</td>\n",
       "    </tr>\n",
       "    <tr>\n",
       "      <th>3</th>\n",
       "      <td>Gt.Britain</td>\n",
       "      <td>Repulse</td>\n",
       "      <td>15</td>\n",
       "    </tr>\n",
       "    <tr>\n",
       "      <th>4</th>\n",
       "      <td>Gt.Britain</td>\n",
       "      <td>Resolution</td>\n",
       "      <td>15</td>\n",
       "    </tr>\n",
       "    <tr>\n",
       "      <th>5</th>\n",
       "      <td>Gt.Britain</td>\n",
       "      <td>Revenge</td>\n",
       "      <td>15</td>\n",
       "    </tr>\n",
       "    <tr>\n",
       "      <th>6</th>\n",
       "      <td>Gt.Britain</td>\n",
       "      <td>Royal Oak</td>\n",
       "      <td>15</td>\n",
       "    </tr>\n",
       "    <tr>\n",
       "      <th>7</th>\n",
       "      <td>Gt.Britain</td>\n",
       "      <td>Royal Sovereign</td>\n",
       "      <td>15</td>\n",
       "    </tr>\n",
       "    <tr>\n",
       "      <th>8</th>\n",
       "      <td>Japan</td>\n",
       "      <td>Haruna</td>\n",
       "      <td>14</td>\n",
       "    </tr>\n",
       "    <tr>\n",
       "      <th>9</th>\n",
       "      <td>Japan</td>\n",
       "      <td>Hiei</td>\n",
       "      <td>14</td>\n",
       "    </tr>\n",
       "    <tr>\n",
       "      <th>10</th>\n",
       "      <td>Japan</td>\n",
       "      <td>Kirishima</td>\n",
       "      <td>14</td>\n",
       "    </tr>\n",
       "    <tr>\n",
       "      <th>11</th>\n",
       "      <td>Japan</td>\n",
       "      <td>Kongo</td>\n",
       "      <td>14</td>\n",
       "    </tr>\n",
       "    <tr>\n",
       "      <th>12</th>\n",
       "      <td>Japan</td>\n",
       "      <td>Musashi</td>\n",
       "      <td>18</td>\n",
       "    </tr>\n",
       "    <tr>\n",
       "      <th>13</th>\n",
       "      <td>Japan</td>\n",
       "      <td>Yamato</td>\n",
       "      <td>18</td>\n",
       "    </tr>\n",
       "    <tr>\n",
       "      <th>14</th>\n",
       "      <td>USA</td>\n",
       "      <td>California</td>\n",
       "      <td>14</td>\n",
       "    </tr>\n",
       "    <tr>\n",
       "      <th>15</th>\n",
       "      <td>USA</td>\n",
       "      <td>Iowa</td>\n",
       "      <td>16</td>\n",
       "    </tr>\n",
       "    <tr>\n",
       "      <th>16</th>\n",
       "      <td>USA</td>\n",
       "      <td>Missouri</td>\n",
       "      <td>16</td>\n",
       "    </tr>\n",
       "    <tr>\n",
       "      <th>17</th>\n",
       "      <td>USA</td>\n",
       "      <td>New Jersey</td>\n",
       "      <td>16</td>\n",
       "    </tr>\n",
       "    <tr>\n",
       "      <th>18</th>\n",
       "      <td>USA</td>\n",
       "      <td>North Carolina</td>\n",
       "      <td>16</td>\n",
       "    </tr>\n",
       "    <tr>\n",
       "      <th>19</th>\n",
       "      <td>USA</td>\n",
       "      <td>South Dakota</td>\n",
       "      <td>16</td>\n",
       "    </tr>\n",
       "    <tr>\n",
       "      <th>20</th>\n",
       "      <td>USA</td>\n",
       "      <td>Tennessee</td>\n",
       "      <td>14</td>\n",
       "    </tr>\n",
       "    <tr>\n",
       "      <th>21</th>\n",
       "      <td>USA</td>\n",
       "      <td>Washington</td>\n",
       "      <td>16</td>\n",
       "    </tr>\n",
       "    <tr>\n",
       "      <th>22</th>\n",
       "      <td>USA</td>\n",
       "      <td>Wisconsin</td>\n",
       "      <td>16</td>\n",
       "    </tr>\n",
       "  </tbody>\n",
       "</table>\n",
       "</div>"
      ],
      "text/plain": [
       "       country             name  bore\n",
       "0      Germany         Bismarck    15\n",
       "1   Gt.Britain        Ramillies    15\n",
       "2   Gt.Britain           Renown    15\n",
       "3   Gt.Britain          Repulse    15\n",
       "4   Gt.Britain       Resolution    15\n",
       "5   Gt.Britain          Revenge    15\n",
       "6   Gt.Britain        Royal Oak    15\n",
       "7   Gt.Britain  Royal Sovereign    15\n",
       "8        Japan           Haruna    14\n",
       "9        Japan             Hiei    14\n",
       "10       Japan        Kirishima    14\n",
       "11       Japan            Kongo    14\n",
       "12       Japan          Musashi    18\n",
       "13       Japan           Yamato    18\n",
       "14         USA       California    14\n",
       "15         USA             Iowa    16\n",
       "16         USA         Missouri    16\n",
       "17         USA       New Jersey    16\n",
       "18         USA   North Carolina    16\n",
       "19         USA     South Dakota    16\n",
       "20         USA        Tennessee    14\n",
       "21         USA       Washington    16\n",
       "22         USA        Wisconsin    16"
      ]
     },
     "execution_count": 31,
     "metadata": {},
     "output_type": "execute_result"
    }
   ],
   "source": [
    "q='''\n",
    "select country, ships.name, bore from classes c join ships on ships.class=c.class\n",
    "union \n",
    "select country, ship, bore from classes c join outcomes o on o.ship=c.class\n",
    "and o.ship not in (select name from ships)  \n",
    "'''\n",
    "sql(q)"
   ]
  },
  {
   "cell_type": "markdown",
   "metadata": {},
   "source": [
    "**Exercise: 31 (Serge I: 2002-10-22)<br>\n",
    "For ship classes with a gun caliber of 16 in. or more, display the class and the country.**"
   ]
  },
  {
   "cell_type": "code",
   "execution_count": 43,
   "metadata": {
    "collapsed": false
   },
   "outputs": [
    {
     "data": {
      "text/html": [
       "<div>\n",
       "<table border=\"1\" class=\"dataframe\">\n",
       "  <thead>\n",
       "    <tr style=\"text-align: right;\">\n",
       "      <th></th>\n",
       "      <th>class</th>\n",
       "      <th>country</th>\n",
       "    </tr>\n",
       "  </thead>\n",
       "  <tbody>\n",
       "    <tr>\n",
       "      <th>0</th>\n",
       "      <td>Iowa</td>\n",
       "      <td>USA</td>\n",
       "    </tr>\n",
       "    <tr>\n",
       "      <th>1</th>\n",
       "      <td>North Carolina</td>\n",
       "      <td>USA</td>\n",
       "    </tr>\n",
       "    <tr>\n",
       "      <th>2</th>\n",
       "      <td>Yamato</td>\n",
       "      <td>Japan</td>\n",
       "    </tr>\n",
       "  </tbody>\n",
       "</table>\n",
       "</div>"
      ],
      "text/plain": [
       "            class country\n",
       "0            Iowa     USA\n",
       "1  North Carolina     USA\n",
       "2          Yamato   Japan"
      ]
     },
     "execution_count": 43,
     "metadata": {},
     "output_type": "execute_result"
    }
   ],
   "source": [
    "q='''\n",
    "select class, country from classes\n",
    "where bore>=16\n",
    "group by class, country\n",
    "'''\n",
    "sql(q)"
   ]
  }
 ],
 "metadata": {
  "kernelspec": {
   "display_name": "Python 2",
   "language": "python",
   "name": "python2"
  },
  "language_info": {
   "codemirror_mode": {
    "name": "ipython",
    "version": 2
   },
   "file_extension": ".py",
   "mimetype": "text/x-python",
   "name": "python",
   "nbconvert_exporter": "python",
   "pygments_lexer": "ipython2",
   "version": "2.7.13"
  }
 },
 "nbformat": 4,
 "nbformat_minor": 2
}
