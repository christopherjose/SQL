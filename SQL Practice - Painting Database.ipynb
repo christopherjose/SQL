{
 "cells": [
  {
   "cell_type": "code",
   "execution_count": 1,
   "metadata": {
    "collapsed": true
   },
   "outputs": [],
   "source": [
    "from IPython.core.interactiveshell import InteractiveShell\n",
    "InteractiveShell.ast_node_interactivity = \"all\"\n",
    "# show all outputs of a cell (such as if df.head() and df.tail() are in the same cell)\n",
    "#default is 'last_expr'\n",
    "from pandasql import sqldf\n",
    "sql = lambda q: sqldf(q, globals()) \n",
    "import pandas as pd\n",
    "\n",
    "utQ=[(1,'Square # 01'),(2,'Square # 02'),(3,'Square # 03'),(4,'Square # 04'),(5,'Square # 05'),\n",
    "(6,'Square # 06'),(7,'Square # 07'),(8,'Square # 08'),(9,'Square # 09'),(10,'Square # 10'),\n",
    "(11,'Square # 11'),(12,'Square # 12'),(13,'Square # 13'),(14,'Square # 14'),(15,'Square # 15'),\n",
    "(16,'Square # 16'),(17,'Square # 17'),(18,'Square # 18'),(19,'Square # 19'),(20,'Square # 20'),\n",
    "(21,'Square # 21'),(22,'Square # 22'),(23,'Square # 23'),(25,'Square # 25')]\n",
    "\n",
    "utV=[(1,'Balloon # 01','R'),(2,'Balloon # 02','R'),(3,'Balloon # 03','R'),\n",
    "(4,'Balloon # 04','G'),(5,'Balloon # 05','G'),(6,'Balloon # 06','G')\n",
    ",(7,'Balloon # 07','B'),(8,'Balloon # 08','B'),(9,'Balloon # 09','B')\n",
    ",(10,'Balloon # 10','R'),(11,'Balloon # 11','R'),(12,'Balloon # 12','R'),\n",
    "(13,'Balloon # 13','G'),(14,'Balloon # 14','G'),(15,'Balloon # 15','B'),\n",
    "(16,'Balloon # 16','B'),(17,'Balloon # 17','R'),(18,'Balloon # 18','G'),\n",
    "(19,'Balloon # 19','B'),(20,'Balloon # 20','R'),(21,'Balloon # 21','G'),(22,'Balloon # 22','B')\n",
    ",(23,'Balloon # 23','R'),(24,'Balloon # 24','G'),(25,'Balloon # 25','B'),\n",
    "(26,'Balloon # 26','B'),(27,'Balloon # 27','R'),(28,'Balloon # 28','G'),(29,'Balloon # 29','R')\n",
    ",(30,'Balloon # 30','G'),(31,'Balloon # 31','R'),(32,'Balloon # 32','G'),\n",
    "(33,'Balloon # 33','B'),(34,'Balloon # 34','R'),(35,'Balloon # 35','G'),(36,'Balloon # 36','B')\n",
    ",(37,'Balloon # 37','R'),(38,'Balloon # 38','G'),(39,'Balloon # 39','B'),\n",
    "(40,'Balloon # 40','R'),(41,'Balloon # 41','R'),(42,'Balloon # 42','G'),\n",
    "(43,'Balloon # 43','B'),(44,'Balloon # 44','R'),(45,'Balloon # 45','G'),\n",
    "(46,'Balloon # 46','B'),(47,'Balloon # 47','B'),(48,'Balloon # 48','G'),\n",
    "(49,'Balloon # 49','R'),(50,'Balloon # 50','G'),(51,'Balloon # 51','B'),(52,'Balloon # 52','R')\n",
    ",(53,'Balloon # 53','G'),(54,'Balloon # 54','B')]\n",
    "\n",
    "utB=[('20030101 01:12:01.000',1,1,155),('20030623 01:12:02.000',1,1,100),\n",
    "('20030101 01:12:03.000',2,2,255),('20030101 01:12:04.000',3,3,255),\n",
    "('20030101 01:12:05.000',1,4,255),('20030101 01:12:06.000',2,5,255),\n",
    "('20030101 01:12:07.000',3,6,255),('20030101 01:12:08.000',1,7,255),\n",
    "('20030101 01:12:09.000',2,8,255),('20030101 01:12:10.000',3,9,255),\n",
    "('20030101 01:12:11.000',4,10,50),('20030101 01:12:12.000',5,11,100),\n",
    "('20030101 01:12:13.000',5,12,155),('20030101 01:12:14.000',5,13,155),\n",
    "('20030101 01:12:15.000',5,14,100),('20030101 01:12:16.000',5,15,50),\n",
    "('20030101 01:12:17.000',5,16,205),('20030101 01:12:18.000',6,10,155),\n",
    "('20030101 01:12:19.000',6,17,100),('20030101 01:12:20.000',6,18,255),\n",
    "('20030101 01:12:21.000',6,19,255),('20030101 01:12:22.000',7,17,155),\n",
    "('20030101 01:12:23.000',7,20,100),('20030101 01:12:24.000',7,21,255),\n",
    "('20030101 01:12:25.000',7,22,255),('20030101 01:12:26.000',8,10,50),\n",
    "('20030101 01:12:27.000',9,23,255),('20030101 01:12:28.000',9,24,255),\n",
    "('20030101 01:12:29.000',9,25,100),('20030101 01:12:30.000',9,26,155),\n",
    "('20030101 01:12:31.000',10,25,155),('20030101 01:12:31.000',10,26,100),\n",
    "('20030101 01:12:33.000',10,27,10),('20030101 01:12:34.000',10,28,10),\n",
    "('20030101 01:12:35.000',10,29,245),('20030101 01:12:36.000',10,30,245),\n",
    "('20030101 01:12:37.000',11,31,100),('20030101 01:12:38.000',11,32,100),\n",
    "('20030101 01:12:39.000',11,33,100),('20030101 01:12:40.000',11,34,155),\n",
    "('20030101 01:12:41.000',11,35,155),('20030101 01:12:42.000',11,36,155),\n",
    "('20030101 01:12:43.000',12,31,155),('20030101 01:12:44.000',12,32,155),\n",
    "('20030101 01:12:45.000',12,33,155),('20030101 01:12:46.000',12,34,100),\n",
    "('20030101 01:12:47.000',12,35,100),('20030101 01:12:48.000',12,36,100),\n",
    "('20030101 01:13:01.000',4,37,20),('20030101 01:13:02.000',8,38,20),\n",
    "('20030101 01:13:03.000',13,39,123),('20030101 01:13:04.000',14,39,111),\n",
    "('20030101 01:13:05.000',14,40,50),('20030101 01:13:06.000',15,41,50),\n",
    "('20030101 01:13:07.000',15,41,50),('20030101 01:13:08.000',15,42,50),\n",
    "('20030101 01:13:09.000',15,42,50),('20030101 01:13:10.000',16,42,50),\n",
    "('20030101 01:13:11.000',16,42,50),('20030101 01:13:12.000',16,43,50),\n",
    "('20030101 01:13:13.000',16,43,50),('20030101 01:13:14.000',16,47,50),\n",
    "('20030101 01:13:15.000',17,44,10),('20030101 01:13:16.000',17,44,10),\n",
    "('20030101 01:13:17.000',17,45,10),('20030101 01:13:18.000',17,45,10),\n",
    "('20030201 01:13:19.000',18,45,10),('20030301 01:13:20.000',18,45,10),\n",
    "('20030401 01:13:21.000',18,46,10),('20030501 01:13:22.000',18,46,10),\n",
    "('20030611 01:13:23.000',19,44,10),('20030101 01:13:24.000',19,44,10),\n",
    "('20030101 01:13:25.000',19,45,10),('20030101 01:13:26.000',19,45,10),\n",
    "('20030201 01:13:27.000',20,45,10),('20030301 01:13:28.000',20,45,10),\n",
    "('20030401 01:13:29.000',20,46,10),('20030501 01:13:30.000',20,46,10),\n",
    "('20030201 01:13:31.000',21,49,50),('20030202 01:13:32.000',21,49,50),\n",
    "('20030203 01:13:33.000',21,50,50),('20030204 01:13:34.000',21,50,50),\n",
    "('20030205 01:13:35.000',21,48,1),('20000101 01:13:36.000',22,50,50),\n",
    "('20010101 01:13:37.000',22,50,50),('20020101 01:13:38.000',22,51,50),\n",
    "('20020601 01:13:39.000',22,51,50),('20030101 01:13:05.000',4,37,185)]\n",
    "\n",
    "utQ=pd.DataFrame(utQ,columns=['q_id','q_name'])\n",
    "utV=pd.DataFrame(utV,columns=['v_id','v_name','v_color'])\n",
    "utB=pd.DataFrame(utB,columns=['b_datetime','b_q_id','b_v_id','b_vol'])\n",
    "\n",
    "utQ['q_name']=utQ['q_name'].astype(str)\n",
    "utB['b_datetime']=pd.to_datetime(utB['b_datetime'])\n",
    "utV['v_name']=utV['v_name'].astype(str)\n",
    "utV['v_color']=utV['v_color'].astype(str)\n",
    "#utQ['q_name']=utQ['q_name'].apply(str)"
   ]
  },
  {
   "cell_type": "code",
   "execution_count": 3,
   "metadata": {
    "collapsed": true
   },
   "outputs": [],
   "source": [
    "q='''\n",
    "\n",
    "utQ (1,'Square # 01') \n",
    "    (identifer, name of Square) \n",
    "    (Q_ID , Q_NAME)\n",
    "    (int, varchar(35)\n",
    "    \n",
    "utV (32,'Balloon # 32','G') \n",
    "    (identifier,name of spray can, color of paint (R,G,B))\n",
    "    (V_ID, V_NAME,V_COLOR)\n",
    "    (int,varchar(35),char(1))\n",
    " \n",
    "utB ('20030101 01:13:15.000',17,44,10)\n",
    "(time of painting event, square identifier, spray can identifier, quantity of paint applied)\n",
    "(B_DATETIME, B_Q_ID , B_V_ID, B_VOL)\n",
    "(datetime, int, int, tinyint)\n",
    "\n",
    "Squares in utQ are painted with spray cans in utV at the time and with the amt of paint in utB.\n",
    "Squares start out as black, which is considered as unpainted.\n",
    "Spray cans initially contain 255 units of paint (so a value of 50 means 205 units is left)\n",
    "Between 0-255 units of the spray can is used on each square.\n",
    "'''"
   ]
  },
  {
   "cell_type": "markdown",
   "metadata": {},
   "source": [
    "**Exercise: 28 (Serge I: 2015-03-20)<br>\n",
    "Determine the average quantity of paint per square with an accuracy of two decimal places.**"
   ]
  },
  {
   "cell_type": "code",
   "execution_count": 4,
   "metadata": {
    "collapsed": false
   },
   "outputs": [
    {
     "data": {
      "text/html": [
       "<div>\n",
       "<table border=\"1\" class=\"dataframe\">\n",
       "  <thead>\n",
       "    <tr style=\"text-align: right;\">\n",
       "      <th></th>\n",
       "      <th>amt</th>\n",
       "    </tr>\n",
       "  </thead>\n",
       "  <tbody>\n",
       "    <tr>\n",
       "      <th>0</th>\n",
       "      <td>386.25</td>\n",
       "    </tr>\n",
       "  </tbody>\n",
       "</table>\n",
       "</div>"
      ],
      "text/plain": [
       "      amt\n",
       "0  386.25"
      ]
     },
     "execution_count": 4,
     "metadata": {},
     "output_type": "execute_result"
    }
   ],
   "source": [
    "# cast( col as decimal(10,2) ) does nothing in sqlite.  Arguments in the () have no effect.\n",
    "#though cast(col as tinyint) works.  You can change the datatype, just no arguments.\n",
    "#use round() to get a certain number of decimal places)\n",
    "\n",
    "#need to sum all vol amounts and divide by number of ids\n",
    "q='''\n",
    "\n",
    "\n",
    "with temp as \n",
    "(select q_id, round(sum(utb.b_vol),2) as amt\n",
    "from utQ left join utB on utB.b_q_id=utQ.q_id group by q_id),\n",
    "\n",
    "temp2 as\n",
    "(select case when amt is null then 0 else amt end as amt from temp)\n",
    "select round(avg(amt),2) as amt from temp2\n",
    "\n",
    "'''\n",
    "sql(q)"
   ]
  }
 ],
 "metadata": {
  "kernelspec": {
   "display_name": "Python 2",
   "language": "python",
   "name": "python2"
  },
  "language_info": {
   "codemirror_mode": {
    "name": "ipython",
    "version": 2
   },
   "file_extension": ".py",
   "mimetype": "text/x-python",
   "name": "python",
   "nbconvert_exporter": "python",
   "pygments_lexer": "ipython2",
   "version": "2.7.13"
  }
 },
 "nbformat": 4,
 "nbformat_minor": 2
}
